{
 "cells": [
  {
   "cell_type": "markdown",
   "id": "22724eff-f786-4fd8-9d07-fccdcb6e9947",
   "metadata": {
    "tags": []
   },
   "source": [
    "# Day 3 AoC\n",
    "\n",
    "🕎 [Day 3 description](https://adventofcode.com/2022/day/3) 🕎\n",
    "\n"
   ]
  },
  {
   "cell_type": "markdown",
   "id": "c6537f20-4a84-4d2a-9d1d-9d845ec26eff",
   "metadata": {
    "tags": []
   },
   "source": [
    "## Setup"
   ]
  },
  {
   "cell_type": "code",
   "execution_count": null,
   "id": "e9b7dd74-d2e2-42a6-a11c-4493798f96bb",
   "metadata": {},
   "outputs": [],
   "source": [
    "import os, re, sys, IPython, itertools\n",
    "def ans(val):\n",
    "    return IPython.display.Markdown(\"**Answer: {}**\".format(val))\n",
    "\n",
    "data_fd = open('inputs/input-aoc-22-03.txt', 'r')\n",
    "data = data_fd.read().strip().split('\\n')"
   ]
  },
  {
   "cell_type": "markdown",
   "id": "98b64823-df37-4079-a7d9-eb956bafeb40",
   "metadata": {
    "tags": []
   },
   "source": [
    "## Part 1"
   ]
  },
  {
   "cell_type": "code",
   "execution_count": null,
   "id": "80f79792-c86b-42ee-a09f-2302e8e83796",
   "metadata": {},
   "outputs": [],
   "source": [
    "import string\n",
    "def priority(char):\n",
    "    if char in string.ascii_uppercase:\n",
    "        return ord(char) - ord('A') +27\n",
    "    if char in string.ascii_lowercase:\n",
    "        return ord(char) - ord('a') + 1\n",
    "    print(\"Unknown char {}\".format(char))\n",
    "\n",
    "def split_comp(strn):\n",
    "    strlen = len(strn)\n",
    "    first = strn[:(strlen//2)]\n",
    "    second = strn[(strlen//2):]\n",
    "    return first, second\n",
    "\n"
   ]
  },
  {
   "cell_type": "code",
   "execution_count": null,
   "id": "ab6863da-592b-4f3d-8843-deb743269770",
   "metadata": {},
   "outputs": [],
   "source": [
    "def process_rucksacks(inpt):\n",
    "    pval = 0\n",
    "    for line in inpt:\n",
    "        first, second = split_comp(line.strip())\n",
    "        common = set(list(first)).intersection(set(list(second)))\n",
    "        val = common.pop()\n",
    "        pval += priority(val)\n",
    "    #print(pval)\n",
    "    return pval"
   ]
  },
  {
   "cell_type": "code",
   "execution_count": null,
   "id": "cb7c44e8-0f8c-4fdb-87d0-add7d6a836d0",
   "metadata": {},
   "outputs": [],
   "source": [
    "ans(process_rucksacks(data))"
   ]
  },
  {
   "cell_type": "markdown",
   "id": "25164015-0392-4e52-b9e9-8b445028e8f7",
   "metadata": {},
   "source": [
    "## Part 2"
   ]
  },
  {
   "cell_type": "code",
   "execution_count": null,
   "id": "34694640-38eb-45f9-9db5-e8ee9a0a5299",
   "metadata": {},
   "outputs": [],
   "source": [
    "def find_badges(inpt):\n",
    "    p_val = 0\n",
    "    for i in range(0, len(inpt), 3):\n",
    "        val = set(inpt[i]).intersection(inpt[i+1]).intersection(inpt[i+2]).pop()\n",
    "        p_val+=priority(val)\n",
    "    return p_val"
   ]
  },
  {
   "cell_type": "code",
   "execution_count": null,
   "id": "8c69a285-0093-45ea-944a-751bfbf8d9f7",
   "metadata": {},
   "outputs": [],
   "source": [
    "ans(find_badges(data))"
   ]
  }
 ],
 "metadata": {
  "kernelspec": {
   "display_name": "Python 3 (ipykernel)",
   "language": "python",
   "name": "python3"
  },
  "language_info": {
   "codemirror_mode": {
    "name": "ipython",
    "version": 3
   },
   "file_extension": ".py",
   "mimetype": "text/x-python",
   "name": "python",
   "nbconvert_exporter": "python",
   "pygments_lexer": "ipython3",
   "version": "3.10.8"
  }
 },
 "nbformat": 4,
 "nbformat_minor": 5
}
