{
 "cells": [
  {
   "cell_type": "markdown",
   "id": "22724eff-f786-4fd8-9d07-fccdcb6e9947",
   "metadata": {
    "tags": []
   },
   "source": [
    "# Day 2 AoC\n",
    "\n",
    "🕎 [Day 2 description](https://adventofcode.com/2022/day/2) 🕎\n",
    "\n"
   ]
  },
  {
   "cell_type": "markdown",
   "id": "c6537f20-4a84-4d2a-9d1d-9d845ec26eff",
   "metadata": {
    "jp-MarkdownHeadingCollapsed": true,
    "tags": []
   },
   "source": [
    "## Setup"
   ]
  },
  {
   "cell_type": "code",
   "execution_count": null,
   "id": "e9b7dd74-d2e2-42a6-a11c-4493798f96bb",
   "metadata": {},
   "outputs": [],
   "source": [
    "import os, re, sys, IPython\n",
    "def ans(val):\n",
    "    return IPython.display.Markdown(\"**Answer: {}**\".format(val))\n",
    "\n",
    "data_fd = open('inputs/input-aoc-22-02.txt', 'r')\n",
    "rounds = data_fd.read().strip().split('\\n')"
   ]
  },
  {
   "cell_type": "markdown",
   "id": "98b64823-df37-4079-a7d9-eb956bafeb40",
   "metadata": {
    "tags": []
   },
   "source": [
    "## Part 1"
   ]
  },
  {
   "cell_type": "code",
   "execution_count": null,
   "id": "571bd88e-7930-42f4-b482-4272e155a7b5",
   "metadata": {},
   "outputs": [],
   "source": [
    "play_score = { 'X' : 1, 'Y': 2, 'Z' : 3 }\n",
    "\n",
    "outcome_score = { ('A', 'X') : 3, ('B', 'Y') : 3, ('C', 'Z') : 3,\n",
    "                  ('A', 'Y') : 6, ('B', 'Z') : 6, ('C', 'X') : 6,\n",
    "                  ('A', 'Z') : 0, ('B', 'X') : 0, ('C', 'Y') : 0 }\n",
    "\n",
    "def score_round(round):\n",
    "    oppo, player = round.split(' ')\n",
    "    return play_score[player] + outcome_score[(oppo, player)]\n",
    "    "
   ]
  },
  {
   "cell_type": "code",
   "execution_count": null,
   "id": "cb7c44e8-0f8c-4fdb-87d0-add7d6a836d0",
   "metadata": {},
   "outputs": [],
   "source": [
    "ans(sum([score_round(x) for x in rounds]))"
   ]
  },
  {
   "cell_type": "markdown",
   "id": "25164015-0392-4e52-b9e9-8b445028e8f7",
   "metadata": {},
   "source": [
    "## Part 2"
   ]
  },
  {
   "cell_type": "code",
   "execution_count": null,
   "id": "a006f0a9-17c3-4c8d-aa34-16f51635da3b",
   "metadata": {},
   "outputs": [],
   "source": [
    "outcome_score2 = {\n",
    "    'X' : 0, 'Y' : 3, 'Z' : 6   \n",
    "}\n",
    "\n",
    "player_score2 = {\n",
    "    ('A', 'X') : 3, ('B', 'Y') : 2, ('C', 'Z') : 1,\n",
    "    ('A', 'Y') : 1, ('B', 'Z') : 3, ('C', 'X') : 2,\n",
    "    ('A', 'Z') : 2, ('B', 'X') : 1, ('C', 'Y') : 3 \n",
    "}\n",
    "\n",
    "def score_round2(round):\n",
    "    oppo, result = round.split(' ')\n",
    "    return player_score2[(oppo, result)] + outcome_score2[result]"
   ]
  },
  {
   "cell_type": "code",
   "execution_count": null,
   "id": "8c69a285-0093-45ea-944a-751bfbf8d9f7",
   "metadata": {},
   "outputs": [],
   "source": [
    "ans(sum([score_round2(x) for x in rounds]))"
   ]
  }
 ],
 "metadata": {
  "kernelspec": {
   "display_name": "Python 3 (ipykernel)",
   "language": "python",
   "name": "python3"
  },
  "language_info": {
   "codemirror_mode": {
    "name": "ipython",
    "version": 3
   },
   "file_extension": ".py",
   "mimetype": "text/x-python",
   "name": "python",
   "nbconvert_exporter": "python",
   "pygments_lexer": "ipython3",
   "version": "3.10.8"
  }
 },
 "nbformat": 4,
 "nbformat_minor": 5
}
