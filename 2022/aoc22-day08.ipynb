{
 "cells": [
  {
   "cell_type": "markdown",
   "id": "22724eff-f786-4fd8-9d07-fccdcb6e9947",
   "metadata": {
    "tags": []
   },
   "source": [
    "![ascii dreidel](media/dreidel.svg)\n",
    "\n",
    "# Day 8 AoC\n",
    "\n",
    "🕎 [Day 8 description](https://adventofcode.com/2022/day/7) 🕎\n"
   ]
  },
  {
   "cell_type": "markdown",
   "id": "c6537f20-4a84-4d2a-9d1d-9d845ec26eff",
   "metadata": {
    "tags": []
   },
   "source": [
    "## Setup"
   ]
  },
  {
   "cell_type": "code",
   "execution_count": null,
   "id": "e5b29761-24fc-4d7b-9634-0be054a1aa5d",
   "metadata": {
    "tags": []
   },
   "outputs": [],
   "source": [
    "# imports\n",
    "import os, re, sys, IPython, itertools"
   ]
  },
  {
   "cell_type": "code",
   "execution_count": null,
   "id": "e9b7dd74-d2e2-42a6-a11c-4493798f96bb",
   "metadata": {
    "tags": []
   },
   "outputs": [],
   "source": [
    "# common helper, data import\n",
    "def ans(val):\n",
    "    return IPython.display.Markdown(\"**Answer: {}**\".format(val))\n",
    "\n",
    "data_fd = open('inputs/input-aoc-22-08.txt', 'r')\n",
    "data = data_fd.read().strip().split('\\n')"
   ]
  },
  {
   "cell_type": "code",
   "execution_count": null,
   "id": "97962736-307b-4ce9-87db-165beae7d52e",
   "metadata": {},
   "outputs": [],
   "source": [
    "numeric_data = [ ]\n",
    "for line in data:\n",
    "    numeric_data.append([int(x) for x in line])\n"
   ]
  },
  {
   "cell_type": "code",
   "execution_count": null,
   "id": "7d79a267-2636-4851-b0ea-52ab8005c868",
   "metadata": {},
   "outputs": [],
   "source": [
    "def check_edge(i,j):\n",
    "    # note, these are hard coded on the problem input size\n",
    "    if i==0 or i==98 or j==0 or j== 98:\n",
    "        return True\n",
    "    return False\n",
    "\n",
    "def is_visible(numeric_data, i, j):\n",
    "    if check_edge(i,j):\n",
    "        return True\n",
    "    # We checked the edges, so these should be non-zero\n",
    "    left_row_slice = numeric_data[i][0:j]\n",
    "    right_row_slice = numeric_data[i][j+1:99]\n",
    "    top_col_slice = [ numeric_data[x][j] for x in range(0,i) ]\n",
    "    bottom_col_slice = [ numeric_data[x][j] for x in range(i+1, 99) ]\n",
    "    v = numeric_data[i][j]\n",
    "    if v > max(left_row_slice) or \\\n",
    "       v > max(right_row_slice) or \\\n",
    "       v > max(top_col_slice) or \\\n",
    "       v > max(bottom_col_slice):\n",
    "        return True\n",
    "    return False\n"
   ]
  },
  {
   "cell_type": "markdown",
   "id": "98b64823-df37-4079-a7d9-eb956bafeb40",
   "metadata": {
    "tags": []
   },
   "source": [
    "## Part 1"
   ]
  },
  {
   "cell_type": "code",
   "execution_count": null,
   "id": "b89022ac-77e4-48cf-976f-0a191932a31d",
   "metadata": {},
   "outputs": [],
   "source": [
    "vis_count = 0\n",
    "for i in range(len(numeric_data)):\n",
    "    for j in range(len(numeric_data[i])):\n",
    "        if is_visible(numeric_data, i, j):\n",
    "            vis_count += 1"
   ]
  },
  {
   "cell_type": "code",
   "execution_count": null,
   "id": "c3dde08a-8a05-4f3c-838f-23dc6145a1d3",
   "metadata": {},
   "outputs": [],
   "source": [
    "ans(vis_count)"
   ]
  },
  {
   "cell_type": "markdown",
   "id": "25164015-0392-4e52-b9e9-8b445028e8f7",
   "metadata": {
    "tags": []
   },
   "source": [
    "## Part 2"
   ]
  },
  {
   "cell_type": "code",
   "execution_count": null,
   "id": "5f808022-2bee-4d3a-a304-b49b549faff5",
   "metadata": {},
   "outputs": [],
   "source": [
    "import operator, functools\n",
    "\n",
    "def scenic_score(numeric_data, i, j):\n",
    "    if check_edge(i,j):\n",
    "        return 0\n",
    "    left_row_slice = numeric_data[i][0:j]\n",
    "    right_row_slice = numeric_data[i][j+1:99]\n",
    "    top_col_slice = [ numeric_data[x][j] for x in range(0,i) ]\n",
    "    bottom_col_slice = [ numeric_data[x][j] for x in range(i+1, 99) ]\n",
    "    v = numeric_data[i][j]\n",
    "    left_row_slice.reverse()\n",
    "    top_col_slice.reverse()\n",
    "    all_slices = [ left_row_slice, right_row_slice, top_col_slice, bottom_col_slice ]\n",
    "    all_scores = []\n",
    "    for slice in all_slices:\n",
    "        counter = 0\n",
    "        while counter < len(slice):\n",
    "            tree = slice[counter]\n",
    "            counter += 1\n",
    "            if tree >= v:\n",
    "                break\n",
    "        all_scores.append(counter)\n",
    "    return functools.reduce(operator.imul, all_scores)"
   ]
  },
  {
   "cell_type": "code",
   "execution_count": null,
   "id": "515ea780-b00c-4856-9054-6abfd4fbe3d0",
   "metadata": {},
   "outputs": [],
   "source": [
    "max_score = 0\n",
    "for i in range(len(numeric_data)):\n",
    "    for j in range(len(numeric_data[i])):\n",
    "        score = scenic_score(numeric_data, i , j)\n",
    "        if score > max_score:\n",
    "            max_score = score"
   ]
  },
  {
   "cell_type": "code",
   "execution_count": null,
   "id": "6ec94666-8e44-4bd9-9c2c-8718d9694903",
   "metadata": {},
   "outputs": [],
   "source": [
    "ans(max_score)"
   ]
  },
  {
   "cell_type": "markdown",
   "id": "f9735753-6417-4701-b25a-19970904d133",
   "metadata": {
    "tags": []
   },
   "source": [
    "## Notes\n",
    "\n"
   ]
  },
  {
   "cell_type": "markdown",
   "id": "fd78d049-5b64-42ea-840a-2f9f846187ea",
   "metadata": {},
   "source": [
    "In the abstraction game, should have separated out generating slices. The fact that the \"scenic score\" was a product and that edges were the only values that counted as 0 meant that `check_edge` could be reused."
   ]
  }
 ],
 "metadata": {
  "kernelspec": {
   "display_name": "Python 3 (ipykernel)",
   "language": "python",
   "name": "python3"
  },
  "language_info": {
   "codemirror_mode": {
    "name": "ipython",
    "version": 3
   },
   "file_extension": ".py",
   "mimetype": "text/x-python",
   "name": "python",
   "nbconvert_exporter": "python",
   "pygments_lexer": "ipython3",
   "version": "3.10.8"
  }
 },
 "nbformat": 4,
 "nbformat_minor": 5
}
