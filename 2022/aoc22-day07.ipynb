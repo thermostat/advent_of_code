{
 "cells": [
  {
   "cell_type": "markdown",
   "id": "22724eff-f786-4fd8-9d07-fccdcb6e9947",
   "metadata": {
    "tags": []
   },
   "source": [
    "![menorah on mantle](media/menorah_banner.JPG)\n",
    "\n",
    "# Day 7 AoC\n",
    "\n",
    "🕎 [Day 7 description](https://adventofcode.com/2022/day/7) 🕎\n"
   ]
  },
  {
   "cell_type": "markdown",
   "id": "c6537f20-4a84-4d2a-9d1d-9d845ec26eff",
   "metadata": {
    "tags": []
   },
   "source": [
    "## Setup"
   ]
  },
  {
   "cell_type": "code",
   "execution_count": null,
   "id": "e5b29761-24fc-4d7b-9634-0be054a1aa5d",
   "metadata": {
    "tags": []
   },
   "outputs": [],
   "source": [
    "# imports\n",
    "import os, re, sys, IPython, itertools"
   ]
  },
  {
   "cell_type": "code",
   "execution_count": null,
   "id": "e9b7dd74-d2e2-42a6-a11c-4493798f96bb",
   "metadata": {
    "tags": []
   },
   "outputs": [],
   "source": [
    "# common helper, data import\n",
    "def ans(val):\n",
    "    return IPython.display.Markdown(\"**Answer: {}**\".format(val))\n",
    "\n",
    "data_fd = open('inputs/input-aoc-22-07.txt', 'r')\n",
    "data = data_fd.read().strip().split('\\n')"
   ]
  },
  {
   "cell_type": "code",
   "execution_count": null,
   "id": "78d3c0e6-e1d0-44a2-91fb-0ebe27d9c149",
   "metadata": {},
   "outputs": [],
   "source": [
    "class TreeIt(object):\n",
    "    def __init__(self, tree):\n",
    "        self._root = tree\n",
    "        self.stack = [self._root]\n",
    "    \n",
    "    def __iter__(self):\n",
    "        return self\n",
    "    \n",
    "    def __next__(self):\n",
    "        if len(self.stack) == 0:\n",
    "            raise StopIteration\n",
    "        result = self.stack.pop()\n",
    "        if isinstance(result, AoCDir):\n",
    "            self.stack.extend(result.children())\n",
    "        return result\n",
    "        \n",
    "\n",
    "class Node(object):\n",
    "    def __init__(self, parent, size=0, name=None):\n",
    "        self._parent = parent\n",
    "        self._size = size\n",
    "        self._name = name\n",
    "    def parent(self):\n",
    "        return self._parent\n",
    "        \n",
    "    def size(self):\n",
    "        return self._size\n",
    "    \n",
    "    def name(self):\n",
    "        return self._name\n",
    "    \n",
    "    def __iter__(self):\n",
    "        return TreeIt(self)\n",
    "    \n",
    "    def __repr__(self):\n",
    "        return \"{} : {}\".format(self._name, self.size())\n",
    "    \n",
    "class AoCDir(Node):\n",
    "    def __init__(self, parent, size=0, name=None):\n",
    "        super().__init__(parent, size, name)\n",
    "        self._children = []\n",
    "        \n",
    "    def add_child(self, childnode):\n",
    "        self._children.append(childnode)\n",
    "        \n",
    "    def find_child(self, name):\n",
    "        for c in self._children:\n",
    "            if c.name() == name:\n",
    "                return c\n",
    "    def children(self):\n",
    "        return self._children[:]\n",
    "        \n",
    "    def size(self):\n",
    "        return sum([x.size() for x in self._children])\n",
    "    \n",
    "\n",
    "        "
   ]
  },
  {
   "cell_type": "code",
   "execution_count": null,
   "id": "1928202e-b455-4880-86a9-adb066c5e612",
   "metadata": {},
   "outputs": [],
   "source": [
    "def create_tree(data):\n",
    "    root = AoCDir(None, name='/')\n",
    "    current_dir = root\n",
    "    for line in data[1:]:\n",
    "        line = line.strip()\n",
    "        if line.startswith(\"$ cd ..\"):\n",
    "            current_dir = current_dir.parent()\n",
    "        elif line.startswith(\"$ cd\"):\n",
    "            current_dir = current_dir.find_child(line[5:])\n",
    "        elif line.startswith(\"$ ls\"):\n",
    "            pass\n",
    "        elif line.startswith(\"dir\"):\n",
    "            current_dir.add_child(AoCDir(current_dir, name=line[4:]))\n",
    "        elif line[0] in '0123456789':\n",
    "            size = int(line.split(' ')[0])\n",
    "            name = line.split(' ')[1]\n",
    "            current_dir.add_child(Node(current_dir, size=size, name=name))\n",
    "        else:\n",
    "            print(\"Bad output {}\".format(line))\n",
    "    return root"
   ]
  },
  {
   "cell_type": "markdown",
   "id": "98b64823-df37-4079-a7d9-eb956bafeb40",
   "metadata": {
    "tags": []
   },
   "source": [
    "## Part 1"
   ]
  },
  {
   "cell_type": "code",
   "execution_count": null,
   "id": "6b4a2d95-9657-4789-b6c0-d8c8dff07f60",
   "metadata": {},
   "outputs": [],
   "source": [
    "ans(sum([ x.size() for x in create_tree(data) if x.size() < 100000 and isinstance(x, AoCDir)]))"
   ]
  },
  {
   "cell_type": "markdown",
   "id": "25164015-0392-4e52-b9e9-8b445028e8f7",
   "metadata": {
    "tags": []
   },
   "source": [
    "## Part 2"
   ]
  },
  {
   "cell_type": "code",
   "execution_count": null,
   "id": "da103883-7235-45a6-9a7e-7d33c6c65434",
   "metadata": {},
   "outputs": [],
   "source": [
    "root = create_tree(data)\n",
    "needed = 30000000\n",
    "total = 70000000\n",
    "current = total - root.size()\n",
    "tobefreed = needed - current\n",
    "print(current)\n",
    "print(tobefreed)"
   ]
  },
  {
   "cell_type": "code",
   "execution_count": null,
   "id": "7c90dd23-c1fa-4135-93f3-2a6cf84df8e5",
   "metadata": {},
   "outputs": [],
   "source": [
    "options = [ x.size() for x in root if x.size() > tobefreed and isinstance(x, AoCDir)]\n",
    "options.sort()\n",
    "ans(options[0])"
   ]
  },
  {
   "cell_type": "markdown",
   "id": "f9735753-6417-4701-b25a-19970904d133",
   "metadata": {},
   "source": [
    "## Notes\n",
    "\n",
    "Fair bit of code, but not really difficult. My biggest bug was using `size_` instead of `size()` somewhere. Had to remind myself of how to implement a python iterator. Also sorting Node objects by size didn't work, but we didn't actually need the name, so I just pulled out the size before sorting."
   ]
  }
 ],
 "metadata": {
  "kernelspec": {
   "display_name": "Python 3 (ipykernel)",
   "language": "python",
   "name": "python3"
  },
  "language_info": {
   "codemirror_mode": {
    "name": "ipython",
    "version": 3
   },
   "file_extension": ".py",
   "mimetype": "text/x-python",
   "name": "python",
   "nbconvert_exporter": "python",
   "pygments_lexer": "ipython3",
   "version": "3.10.8"
  }
 },
 "nbformat": 4,
 "nbformat_minor": 5
}
