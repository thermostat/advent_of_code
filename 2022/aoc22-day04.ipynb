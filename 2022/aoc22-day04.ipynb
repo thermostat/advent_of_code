{
 "cells": [
  {
   "cell_type": "markdown",
   "id": "22724eff-f786-4fd8-9d07-fccdcb6e9947",
   "metadata": {
    "tags": []
   },
   "source": [
    "![menorah on mantle](media/menorah_banner.JPG)\n",
    "\n",
    "# Day 4 AoC\n",
    "\n",
    "🕎 [Day 4 description](https://adventofcode.com/2022/day/4) 🕎\n"
   ]
  },
  {
   "cell_type": "markdown",
   "id": "c6537f20-4a84-4d2a-9d1d-9d845ec26eff",
   "metadata": {
    "tags": []
   },
   "source": [
    "## Setup"
   ]
  },
  {
   "cell_type": "code",
   "execution_count": null,
   "id": "e5b29761-24fc-4d7b-9634-0be054a1aa5d",
   "metadata": {},
   "outputs": [],
   "source": [
    "# imports\n",
    "import os, re, sys, IPython, itertools"
   ]
  },
  {
   "cell_type": "code",
   "execution_count": null,
   "id": "e9b7dd74-d2e2-42a6-a11c-4493798f96bb",
   "metadata": {},
   "outputs": [],
   "source": [
    "# common helper, data import\n",
    "def ans(val):\n",
    "    return IPython.display.Markdown(\"**Answer: {}**\".format(val))\n",
    "\n",
    "data_fd = open('inputs/input-aoc-22-04.txt', 'r')\n",
    "data = data_fd.read().strip().split('\\n')"
   ]
  },
  {
   "cell_type": "markdown",
   "id": "98b64823-df37-4079-a7d9-eb956bafeb40",
   "metadata": {
    "tags": []
   },
   "source": [
    "## Part 1"
   ]
  },
  {
   "cell_type": "code",
   "execution_count": null,
   "id": "0033f3bd-d419-4b76-9adc-8df7dbd4009f",
   "metadata": {},
   "outputs": [],
   "source": [
    "def elf_parse(line):\n",
    "    esplit = line.split(',')\n",
    "    i1,i2 = esplit[0].split('-')\n",
    "    i3,i4 = esplit[1].split('-')\n",
    "    i1 = int(i1)\n",
    "    i2 = int(i2)\n",
    "    i3 = int(i3)\n",
    "    i4 = int(i4)\n",
    "    return (i1,i2,i3,i4)\n",
    "\n",
    "def elf_contain(line):\n",
    "    i1,i2,i3,i4 = elf_parse(line)\n",
    "    if (i1 <= i3 and i2 >= i4) or \\\n",
    "       (i3 <= i1 and i4 >= i2):\n",
    "        return True\n",
    "    return False\n",
    "\n"
   ]
  },
  {
   "cell_type": "code",
   "execution_count": null,
   "id": "cb7c44e8-0f8c-4fdb-87d0-add7d6a836d0",
   "metadata": {},
   "outputs": [],
   "source": [
    "ans(len([x for x in data if elf_contain(x)]))"
   ]
  },
  {
   "cell_type": "markdown",
   "id": "25164015-0392-4e52-b9e9-8b445028e8f7",
   "metadata": {},
   "source": [
    "## Part 2"
   ]
  },
  {
   "cell_type": "code",
   "execution_count": null,
   "id": "8da7fa61-ae3c-4861-8196-4bea83ee3732",
   "metadata": {},
   "outputs": [],
   "source": [
    "def elf_overlap(line):\n",
    "    i1,i2,i3,i4 = elf_parse(line)\n",
    "    if (i2 >= i3 and i1 <= i4) or (i4 >= i1 and i3 <= i2):\n",
    "        return True\n",
    "    return False\n"
   ]
  },
  {
   "cell_type": "code",
   "execution_count": null,
   "id": "8c69a285-0093-45ea-944a-751bfbf8d9f7",
   "metadata": {},
   "outputs": [],
   "source": [
    "ans(len([ x for x in data if elf_overlap(x)]))"
   ]
  },
  {
   "cell_type": "markdown",
   "id": "304ace86-51d9-41d6-9f45-99da1d4a3287",
   "metadata": {},
   "source": [
    "```\n",
    "     *       x\n",
    "            /.\\   *\n",
    "        *  /..'\\\n",
    "           /'.'\\\n",
    "   *      /.''.'\\  *\n",
    "          /.'.'.\\\n",
    "   \"'\"\"\"\"/'.''.'.\\\"\"'\"'\"\n",
    "         ^^^[_]^^^\n",
    "````"
   ]
  }
 ],
 "metadata": {
  "kernelspec": {
   "display_name": "Python 3 (ipykernel)",
   "language": "python",
   "name": "python3"
  },
  "language_info": {
   "codemirror_mode": {
    "name": "ipython",
    "version": 3
   },
   "file_extension": ".py",
   "mimetype": "text/x-python",
   "name": "python",
   "nbconvert_exporter": "python",
   "pygments_lexer": "ipython3",
   "version": "3.10.8"
  }
 },
 "nbformat": 4,
 "nbformat_minor": 5
}
