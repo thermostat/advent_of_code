{
 "cells": [
  {
   "cell_type": "markdown",
   "id": "22724eff-f786-4fd8-9d07-fccdcb6e9947",
   "metadata": {
    "tags": []
   },
   "source": [
    "\n",
    "# Day 13 AoC\n",
    "\n",
    "🕎 [Day 13 description](https://adventofcode.com/2022/day/13) 🕎\n"
   ]
  },
  {
   "cell_type": "markdown",
   "id": "c6537f20-4a84-4d2a-9d1d-9d845ec26eff",
   "metadata": {
    "tags": []
   },
   "source": [
    "## Setup"
   ]
  },
  {
   "cell_type": "code",
   "execution_count": null,
   "id": "e5b29761-24fc-4d7b-9634-0be054a1aa5d",
   "metadata": {
    "tags": []
   },
   "outputs": [],
   "source": [
    "# imports\n",
    "import os, re, sys, IPython, itertools, operator, functools, datetime, heapq\n",
    "\n",
    "starttime = datetime.datetime.now()"
   ]
  },
  {
   "cell_type": "code",
   "execution_count": null,
   "id": "e9b7dd74-d2e2-42a6-a11c-4493798f96bb",
   "metadata": {
    "tags": []
   },
   "outputs": [],
   "source": [
    "# common helper, data import\n",
    "def ans(val):\n",
    "    return IPython.display.Markdown(\"**Answer: {}**\".format(val))\n",
    "\n",
    "data_fd = open('inputs/input-aoc-22-13.txt', 'r')\n",
    "data = data_fd.read().strip().split('\\n\\n')"
   ]
  },
  {
   "cell_type": "code",
   "execution_count": null,
   "id": "22c6d1c7-3064-4c24-b184-8be18f4a0edd",
   "metadata": {},
   "outputs": [],
   "source": [
    "def islist(val):\n",
    "    return type(val) == type([])\n",
    "\n",
    "def isint(val):\n",
    "    return type(val) == type(0)\n",
    "\n",
    "def compare_packets(left, right):\n",
    "    if islist(left) and islist(right):\n",
    "        if len(right) == 0 and len(left) == 0:\n",
    "            return None\n",
    "        if len(right) == 0:\n",
    "            return False\n",
    "        if len(left) == 0:\n",
    "            return True\n",
    "        temp = compare_packets(left[0], right[0])\n",
    "        if temp == None:\n",
    "            return compare_packets(left[1:], right[1:])\n",
    "        else:\n",
    "            return temp\n",
    "    elif isint(left) and isint(right):\n",
    "        if left == right:\n",
    "            return None\n",
    "        else:\n",
    "            return left < right\n",
    "    elif isint(left) and islist(right):\n",
    "        return compare_packets([left], right)\n",
    "    elif islist(left) and isint(right):\n",
    "        return compare_packets(left, [right])\n",
    "    \n",
    "def parse_pair(datain):\n",
    "    left,right = datain.split('\\n')\n",
    "    left = eval(left)\n",
    "    right = eval(right)\n",
    "    return left, right"
   ]
  },
  {
   "cell_type": "code",
   "execution_count": null,
   "id": "e5e7b46b-4d95-4bf2-8713-fc85e0756350",
   "metadata": {},
   "outputs": [],
   "source": [
    "pairs = [parse_pair(x) for x in data]"
   ]
  },
  {
   "cell_type": "markdown",
   "id": "7d104fb7-a1cc-48b5-a0a0-1294323dbe39",
   "metadata": {},
   "source": [
    "## Part 1"
   ]
  },
  {
   "cell_type": "code",
   "execution_count": null,
   "id": "66bcb5cc-ea51-4a2a-a314-b9c9a9164d8d",
   "metadata": {},
   "outputs": [],
   "source": [
    "idxsum = 0\n",
    "for i in range(len(pairs)):\n",
    "    p = pairs[i]\n",
    "    if compare_packets(p[0], p[1]):\n",
    "        idxsum += (i+1)\n",
    "ans(idxsum)"
   ]
  },
  {
   "cell_type": "markdown",
   "id": "25164015-0392-4e52-b9e9-8b445028e8f7",
   "metadata": {
    "tags": []
   },
   "source": [
    "## Part 2"
   ]
  },
  {
   "cell_type": "code",
   "execution_count": null,
   "id": "7b5271a5-c7a8-41f4-b9a9-8d2a7918c6fa",
   "metadata": {},
   "outputs": [],
   "source": [
    "class Packet(object):\n",
    "    def __init__(self, val):\n",
    "        self.val = val\n",
    "        self.divider = False\n",
    "        \n",
    "    def __eq__(self, other):\n",
    "        return compare_packet(self.val, other.val) == None\n",
    "    \n",
    "    def __lt__(self, other):\n",
    "        return compare_packets(self.val, other.val)\n",
    "\n"
   ]
  },
  {
   "cell_type": "code",
   "execution_count": null,
   "id": "bc3bac1f-1e43-43ad-bbb5-8e64792ec542",
   "metadata": {},
   "outputs": [],
   "source": [
    "packets = []\n",
    "for p in pairs:\n",
    "    packets.append(Packet(p[0]))\n",
    "    packets.append(Packet(p[1]))\n",
    "d1 = Packet([[6]])\n",
    "d1.divider = True\n",
    "d2 = Packet([[2]])\n",
    "d2.divider = True\n",
    "packets.append(d1)\n",
    "packets.append(d2)\n",
    "\n",
    "packets.sort()\n",
    "dividx = []\n",
    "for i, p in enumerate(packets):\n",
    "    if p.divider:\n",
    "        dividx.append(i+1)\n"
   ]
  },
  {
   "cell_type": "code",
   "execution_count": null,
   "id": "19f3fa3b-0b42-4295-b291-3896a2a1a1a7",
   "metadata": {},
   "outputs": [],
   "source": [
    "ans(functools.reduce(operator.mul, dividx))"
   ]
  },
  {
   "cell_type": "code",
   "execution_count": null,
   "id": "320b7859-d8bc-4b20-9a2e-602943161260",
   "metadata": {},
   "outputs": [],
   "source": [
    "endtime = datetime.datetime.now()\n",
    "\n",
    "print(endtime - starttime)"
   ]
  },
  {
   "cell_type": "markdown",
   "id": "09144659-a465-42a3-925f-cb54912b4e50",
   "metadata": {},
   "source": [
    "## Notes\n"
   ]
  },
  {
   "cell_type": "markdown",
   "id": "d8947d1f-d571-44f9-90e6-8932ded29937",
   "metadata": {},
   "source": []
  }
 ],
 "metadata": {
  "kernelspec": {
   "display_name": "Python 3 (ipykernel)",
   "language": "python",
   "name": "python3"
  },
  "language_info": {
   "codemirror_mode": {
    "name": "ipython",
    "version": 3
   },
   "file_extension": ".py",
   "mimetype": "text/x-python",
   "name": "python",
   "nbconvert_exporter": "python",
   "pygments_lexer": "ipython3",
   "version": "3.10.8"
  }
 },
 "nbformat": 4,
 "nbformat_minor": 5
}
