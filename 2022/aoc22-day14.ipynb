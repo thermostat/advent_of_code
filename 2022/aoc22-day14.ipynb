{
 "cells": [
  {
   "cell_type": "markdown",
   "id": "22724eff-f786-4fd8-9d07-fccdcb6e9947",
   "metadata": {
    "tags": []
   },
   "source": [
    "\n",
    "# Day 14 AoC\n",
    "\n",
    "🕎 [Day 14 description](https://adventofcode.com/2022/day/14) 🕎\n"
   ]
  },
  {
   "cell_type": "markdown",
   "id": "c6537f20-4a84-4d2a-9d1d-9d845ec26eff",
   "metadata": {
    "tags": []
   },
   "source": [
    "## Setup"
   ]
  },
  {
   "cell_type": "code",
   "execution_count": null,
   "id": "e5b29761-24fc-4d7b-9634-0be054a1aa5d",
   "metadata": {
    "tags": []
   },
   "outputs": [],
   "source": [
    "# imports\n",
    "import os, re, sys, IPython, itertools, operator, functools, datetime, heapq\n",
    "\n",
    "starttime = datetime.datetime.now()"
   ]
  },
  {
   "cell_type": "code",
   "execution_count": null,
   "id": "e9b7dd74-d2e2-42a6-a11c-4493798f96bb",
   "metadata": {
    "tags": []
   },
   "outputs": [],
   "source": [
    "# common helper, data import\n",
    "def ans(val):\n",
    "    return IPython.display.Markdown(\"**Answer: {}**\".format(val))\n",
    "\n",
    "data_fd = open('inputs/input-aoc-22-14.txt', 'r')\n",
    "data = data_fd.read().strip().split('\\n')"
   ]
  },
  {
   "cell_type": "code",
   "execution_count": null,
   "id": "6cb7d635-7a04-49f5-8116-3a5ba85ed6f3",
   "metadata": {},
   "outputs": [],
   "source": [
    "data[0]"
   ]
  },
  {
   "cell_type": "code",
   "execution_count": null,
   "id": "9e8159ac-ac72-47d0-ad74-873d7cf1110f",
   "metadata": {},
   "outputs": [],
   "source": [
    "class AOCMap(object):\n",
    "    def __init__(self, data, use_floor=False):\n",
    "        self._data = data\n",
    "        self._rock_paths = []\n",
    "        self._rock_coords = set()\n",
    "        self._sand_coords = set()\n",
    "        self._max_coord = None\n",
    "        self._min_coord = None\n",
    "        self._sand_start = (500,0)\n",
    "        self._sand_path = []\n",
    "        self._use_floor = use_floor\n",
    "        self._parse_data()\n",
    "        \n",
    "    def _parse_data(self):\n",
    "        for line in self._data:\n",
    "            path = []\n",
    "            for coordstr in line.split(' -> '):\n",
    "                x,y = coordstr.split(',')\n",
    "                path.append((int(x), int(y)))\n",
    "            self._rock_paths.append(path)\n",
    "            \n",
    "        for path in self._rock_paths:\n",
    "            for i in range(len(path)-1):\n",
    "                pstart = path[i]\n",
    "                pend = path[i+1]\n",
    "\n",
    "                if pstart[0] == pend[0]:\n",
    "                    direction = (pend[1] - pstart[1])//abs(pend[1] - pstart[1])\n",
    "                    for j in range(pstart[1],pend[1]+direction, direction):\n",
    "                        self._rock_coords.add((pstart[0], j))\n",
    "                elif pstart[1] == pend[1]:\n",
    "                    direction = (pend[0] - pstart[0])//abs(pend[0]-pstart[0])\n",
    "                    for j in range(pstart[0],pend[0]+direction, direction):\n",
    "                        self._rock_coords.add((j, pstart[1]))\n",
    "                else:\n",
    "                    print(\"bad assumption\")\n",
    "        floor_adj = 0\n",
    "        if self._use_floor:\n",
    "            floor_adj = 2\n",
    "        self._max_coord = (max([x[0] for x in self._rock_coords]),\n",
    "                           max([x[1]+floor_adj for x in self._rock_coords]))\n",
    "        self._min_coord = (min([x[0] for x in self._rock_coords]),\n",
    "                           min([x[1] for x in self._rock_coords]))\n",
    "\n",
    "    def _free_coord(self, coord):\n",
    "        result = ( coord not in self._rock_coords and \\\n",
    "                   coord not in self._sand_coords )\n",
    "        if not self._use_floor:\n",
    "            return result\n",
    "        else:\n",
    "            return ( coord[1] < self._max_coord[1] and\n",
    "                     result )\n",
    "    \n",
    "    def _oob(self, coord):\n",
    "        result = \\\n",
    "               coord[1] < 0 or \\\n",
    "               coord[1] > self._max_coord[1]\n",
    "        if not self._use_floor:\n",
    "            return result\n",
    "        else:\n",
    "            return result or (coord == (500,0))     \n",
    "\n",
    "    def _find_next_option(self, sand_coord):\n",
    "        options = [(sand_coord[0]+1, sand_coord[1]+1),\n",
    "                   (sand_coord[0]-1, sand_coord[1]+1),\n",
    "                   (sand_coord[0], sand_coord[1]+1)]\n",
    "        \n",
    "        while len(options) > 0:\n",
    "            opt = options.pop()\n",
    "            if self._free_coord(opt):\n",
    "                return opt\n",
    "        return None\n",
    "    \n",
    "    def sim_sand(self):\n",
    "        keep_going = True\n",
    "        sand_coord = self._sand_start\n",
    "        if len(self._sand_path) > 0:\n",
    "            sand_coord = self._sand_path[-1]\n",
    "        try:\n",
    "            while keep_going:\n",
    "                opt = self._find_next_option(sand_coord)\n",
    "                if opt == None:\n",
    "                    keep_going = False\n",
    "                    self._sand_coords.add(sand_coord)\n",
    "                    if len(self._sand_path) > 0:\n",
    "                        self._sand_path.pop()\n",
    "                elif self._oob(opt):\n",
    "                    keep_going = False\n",
    "                    print(\"one fell off! at {}\".format(len(self._sand_coords)))\n",
    "                else:\n",
    "                    sand_coord = opt\n",
    "                    self._sand_path.append(sand_coord)\n",
    "        except KeyboardInterrupt:\n",
    "            print(\"sand coord: {}\".format(repr(sand_coord)))\n",
    "            raise\n",
    "    def run_sim(self, max_count=None):\n",
    "        sand_count = len(self._sand_coords)\n",
    "        self.sim_sand()\n",
    "        next_count = len(self._sand_coords)\n",
    "        while next_count != sand_count and (max_count==None or sand_count<=max_count):\n",
    "            sand_count = len(self._sand_coords)\n",
    "            self.sim_sand()\n",
    "            next_count = len(self._sand_coords)\n",
    "        return len(self._sand_coords)\n",
    "        \n",
    "    def print_map(self):\n",
    "        result = []\n",
    "        for y in range(0, self._max_coord[1]+1):\n",
    "            resline = ''\n",
    "            for x in range(self._min_coord[0], self._max_coord[0]+1):\n",
    "                if self._use_floor and y == self._max_coord[1]:\n",
    "                    resline = resline+\"#\"\n",
    "                elif (x,y) in self._rock_coords:\n",
    "                    resline = resline+\"#\"\n",
    "                elif (x,y) in self._sand_coords:\n",
    "                    resline = resline+\"o\"\n",
    "                elif (x,y) == self._sand_start:\n",
    "                    resline = resline+\"+\"\n",
    "                else:\n",
    "                    resline = resline+'.'\n",
    "            result.append(resline)\n",
    "        print('\\n'.join(result))"
   ]
  },
  {
   "cell_type": "markdown",
   "id": "7d104fb7-a1cc-48b5-a0a0-1294323dbe39",
   "metadata": {},
   "source": [
    "## Part 1"
   ]
  },
  {
   "cell_type": "code",
   "execution_count": null,
   "id": "a1d91e73-812c-4230-9ee3-0885d670090c",
   "metadata": {},
   "outputs": [],
   "source": [
    "m = AOCMap(data)\n",
    "v = m.run_sim(750)\n",
    "m.print_map()\n",
    "ans(v)"
   ]
  },
  {
   "cell_type": "markdown",
   "id": "25164015-0392-4e52-b9e9-8b445028e8f7",
   "metadata": {
    "tags": []
   },
   "source": [
    "## Part 2"
   ]
  },
  {
   "cell_type": "code",
   "execution_count": null,
   "id": "5283c653-672d-49e7-90eb-1e6f5c7c3823",
   "metadata": {},
   "outputs": [],
   "source": [
    "m = AOCMap(data, use_floor=True)\n",
    "v = m.run_sim(50000)\n",
    "m.print_map()\n",
    "ans(v)"
   ]
  },
  {
   "cell_type": "code",
   "execution_count": null,
   "id": "320b7859-d8bc-4b20-9a2e-602943161260",
   "metadata": {},
   "outputs": [],
   "source": [
    "endtime = datetime.datetime.now()\n",
    "\n",
    "print(endtime - starttime)"
   ]
  },
  {
   "cell_type": "markdown",
   "id": "09144659-a465-42a3-925f-cb54912b4e50",
   "metadata": {},
   "source": [
    "## Notes\n"
   ]
  },
  {
   "cell_type": "markdown",
   "id": "caeda8f8-d6bb-4411-8034-476a930c8ed1",
   "metadata": {},
   "source": [
    "Good problem for optimization. Basic path cache took the runtime from 5.9 sec to .44 sec on my laptop."
   ]
  },
  {
   "cell_type": "markdown",
   "id": "d8947d1f-d571-44f9-90e6-8932ded29937",
   "metadata": {
    "tags": []
   },
   "source": [
    "## Bugs\n",
    "\n"
   ]
  },
  {
   "cell_type": "markdown",
   "id": "a1b77bd3-836a-4e80-83fb-f13929b6e528",
   "metadata": {},
   "source": [
    "1. Bad rock calculation. Using range produced `[]` when going negative direction (fixed by adding the step parameter to range). Similarly, adding 1 to the end of the range to be inclusive of the endpoint needed the direction as well.\n",
    "2. Out of bounds check. Used `and` instead of `or`, dumb logic error"
   ]
  },
  {
   "cell_type": "code",
   "execution_count": null,
   "id": "a128c494-2a34-4989-aefa-31e68e50bd7c",
   "metadata": {},
   "outputs": [],
   "source": [
    "test = AOCMap(\"\"\"498,4 -> 498,6 -> 496,6\n",
    "503,4 -> 502,4 -> 502,9 -> 494,9\"\"\".split('\\n'))\n",
    "v = test.run_sim()\n",
    "test.print_map()\n",
    "print((497,6) in test._rock_coords)\n",
    "print(test._min_coord)\n",
    "print(test._max_coord)\n",
    "print(test._rock_paths)"
   ]
  },
  {
   "cell_type": "code",
   "execution_count": null,
   "id": "64f89309-7cce-4156-bfc1-6d0ae153e68e",
   "metadata": {},
   "outputs": [],
   "source": []
  }
 ],
 "metadata": {
  "kernelspec": {
   "display_name": "Python 3 (ipykernel)",
   "language": "python",
   "name": "python3"
  },
  "language_info": {
   "codemirror_mode": {
    "name": "ipython",
    "version": 3
   },
   "file_extension": ".py",
   "mimetype": "text/x-python",
   "name": "python",
   "nbconvert_exporter": "python",
   "pygments_lexer": "ipython3",
   "version": "3.10.8"
  }
 },
 "nbformat": 4,
 "nbformat_minor": 5
}
