{
 "cells": [
  {
   "cell_type": "markdown",
   "id": "22724eff-f786-4fd8-9d07-fccdcb6e9947",
   "metadata": {
    "tags": []
   },
   "source": [
    "![menorah on mantle](media/menorah_banner.JPG)\n",
    "\n",
    "# Day 5 AoC\n",
    "\n",
    "🕎 [Day 5 description](https://adventofcode.com/2022/day/5) 🕎\n"
   ]
  },
  {
   "cell_type": "markdown",
   "id": "c6537f20-4a84-4d2a-9d1d-9d845ec26eff",
   "metadata": {
    "tags": []
   },
   "source": [
    "## Setup"
   ]
  },
  {
   "cell_type": "code",
   "execution_count": null,
   "id": "e5b29761-24fc-4d7b-9634-0be054a1aa5d",
   "metadata": {
    "tags": []
   },
   "outputs": [],
   "source": [
    "# imports\n",
    "import os, re, sys, IPython, itertools"
   ]
  },
  {
   "cell_type": "code",
   "execution_count": null,
   "id": "e9b7dd74-d2e2-42a6-a11c-4493798f96bb",
   "metadata": {
    "tags": []
   },
   "outputs": [],
   "source": [
    "# common helper, data import\n",
    "def ans(val):\n",
    "    return IPython.display.Markdown(\"**Answer: {}**\".format(val))\n",
    "\n",
    "data_fd = open('inputs/input-aoc-22-05.txt', 'r')\n",
    "data = data_fd.read().split('\\n')"
   ]
  },
  {
   "cell_type": "code",
   "execution_count": null,
   "id": "a70ad043-8c8e-45bf-9548-dbae70359fdd",
   "metadata": {},
   "outputs": [],
   "source": [
    "stack_inp = data[:8]"
   ]
  },
  {
   "cell_type": "code",
   "execution_count": null,
   "id": "9f61cb97-f5ce-4f20-9b6d-ae40b91ced31",
   "metadata": {},
   "outputs": [],
   "source": [
    "from copy import deepcopy\n",
    "\n",
    "stacks = [ list() for x in range(9) ]\n",
    "for l in stack_inp:\n",
    "    for i in range(9):\n",
    "        if 1+(i*4) < len(l) and l[1+(i*4)] != ' ':\n",
    "            stacks[i].append(l[1+(i*4)])\n",
    "for s in stacks:\n",
    "    s.reverse()\n",
    "save_stacks = deepcopy(stacks)\n",
    "\n",
    "moves = data[10:-1]\n",
    "\n",
    "MOVE_RE = re.compile(r'move (\\d+) from (\\d+) to (\\d+)')"
   ]
  },
  {
   "cell_type": "code",
   "execution_count": null,
   "id": "b2ee496f-a95e-4185-82c3-ad6c6e839a39",
   "metadata": {},
   "outputs": [],
   "source": [
    "def do_move_general(move, stacks, movefunc):\n",
    "    count, src, dest = MOVE_RE.search(move).groups()\n",
    "    count = int(count)\n",
    "    src = int(src)-1\n",
    "    dest = int(dest)-1\n",
    "    movefunc(stacks, count, src, dest)\n",
    "    \n",
    "def run_moves(moves, stacks, movefunc):\n",
    "    stacks = deepcopy(stacks)\n",
    "    for line in moves:\n",
    "        do_move_general(line, stacks, movefunc)\n",
    "    return stacks"
   ]
  },
  {
   "cell_type": "markdown",
   "id": "98b64823-df37-4079-a7d9-eb956bafeb40",
   "metadata": {
    "tags": []
   },
   "source": [
    "## Part 1"
   ]
  },
  {
   "cell_type": "code",
   "execution_count": null,
   "id": "be50e5e7-839a-4c3d-8e34-abe20e0ec726",
   "metadata": {
    "tags": []
   },
   "outputs": [],
   "source": [
    "def move_stack(stacks, count, src, dest):\n",
    "    for _ in range(count):\n",
    "        try:\n",
    "            stacks[dest].append(stacks[src].pop())\n",
    "        except:\n",
    "            print(dest)\n",
    "            \n",
    "stacks = run_moves(moves, save_stacks, move_stack)\n"
   ]
  },
  {
   "cell_type": "code",
   "execution_count": null,
   "id": "2860fc58-10fe-4052-a891-9d76a6843e1b",
   "metadata": {},
   "outputs": [],
   "source": [
    "ans(\"\".join([x[-1] for x in stacks]))"
   ]
  },
  {
   "cell_type": "markdown",
   "id": "25164015-0392-4e52-b9e9-8b445028e8f7",
   "metadata": {
    "tags": []
   },
   "source": [
    "## Part 2"
   ]
  },
  {
   "cell_type": "code",
   "execution_count": null,
   "id": "22f1b9ca-f0dd-4ce5-a8c5-9499a2f84bb9",
   "metadata": {},
   "outputs": [],
   "source": [
    "def move_grouped(stacks, count, src, dest):\n",
    "    stacks[dest].extend(stacks[src][-count:])\n",
    "    stacks[src] = stacks[src][:-count]\n",
    "\n",
    "stacks = run_moves(moves, save_stacks, move_grouped)"
   ]
  },
  {
   "cell_type": "code",
   "execution_count": null,
   "id": "4d2e8250",
   "metadata": {},
   "outputs": [],
   "source": [
    "ans(\"\".join([x[-1] for x in stacks]))"
   ]
  }
 ],
 "metadata": {
  "kernelspec": {
   "display_name": "Python 3 (ipykernel)",
   "language": "python",
   "name": "python3"
  },
  "language_info": {
   "codemirror_mode": {
    "name": "ipython",
    "version": 3
   },
   "file_extension": ".py",
   "mimetype": "text/x-python",
   "name": "python",
   "nbconvert_exporter": "python",
   "pygments_lexer": "ipython3",
   "version": "3.10.8"
  }
 },
 "nbformat": 4,
 "nbformat_minor": 5
}
