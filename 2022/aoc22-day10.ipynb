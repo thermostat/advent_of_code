{
 "cells": [
  {
   "cell_type": "markdown",
   "id": "22724eff-f786-4fd8-9d07-fccdcb6e9947",
   "metadata": {
    "tags": []
   },
   "source": [
    "![ascii dreidel](media/dreidel.svg)\n",
    "\n",
    "# Day 10 AoC\n",
    "\n",
    "🕎 [Day 10 description](https://adventofcode.com/2022/day/10) 🕎\n"
   ]
  },
  {
   "cell_type": "markdown",
   "id": "c6537f20-4a84-4d2a-9d1d-9d845ec26eff",
   "metadata": {
    "tags": []
   },
   "source": [
    "## Setup"
   ]
  },
  {
   "cell_type": "code",
   "execution_count": null,
   "id": "e5b29761-24fc-4d7b-9634-0be054a1aa5d",
   "metadata": {
    "tags": []
   },
   "outputs": [],
   "source": [
    "# imports\n",
    "import os, re, sys, IPython, itertools"
   ]
  },
  {
   "cell_type": "code",
   "execution_count": null,
   "id": "e9b7dd74-d2e2-42a6-a11c-4493798f96bb",
   "metadata": {
    "tags": []
   },
   "outputs": [],
   "source": [
    "# common helper, data import\n",
    "def ans(val):\n",
    "    return IPython.display.Markdown(\"**Answer: {}**\".format(val))\n",
    "\n",
    "data_fd = open('inputs/input-aoc-22-10.txt', 'r')\n",
    "data = data_fd.read().strip().split('\\n')"
   ]
  },
  {
   "cell_type": "code",
   "execution_count": null,
   "id": "06db366a-562a-4baf-94fa-fb8f57383103",
   "metadata": {},
   "outputs": [],
   "source": [
    "def parse_inst(inststr):\n",
    "    if inststr.startswith('add'):\n",
    "        inst,v = inststr.split(' ')\n",
    "        v = int(v)\n",
    "    elif inststr.startswith('noop'):\n",
    "        inst = inststr\n",
    "        v = None\n",
    "    return inst,v\n",
    "\n",
    "def process_instructions(data):\n",
    "    cycle = 1\n",
    "    inst_list = []\n",
    "    for strn in data:\n",
    "        inst_list.append(AOCInst(strn, cycle))\n",
    "        cycle += inst_list[-1].cycles_to_retire()\n",
    "    return inst_list\n",
    "        \n",
    "\n",
    "class AOCInst(object):\n",
    "    def __init__(self, inststr, issue_cycle):\n",
    "        self._instr, self._imm = parse_inst(inststr)\n",
    "        self._issue_cycle = issue_cycle\n",
    "        \n",
    "    def cycles_to_retire(self):\n",
    "        if self._instr == 'addx':\n",
    "            return 2\n",
    "        elif self._instr == 'noop':\n",
    "            return 1\n",
    "        \n",
    "    def retire_cycle(self):\n",
    "        return self._issue_cycle + self.cycles_to_retire()\n",
    "\n",
    "    def execute(self, register):\n",
    "        #print(\"executing {} retire cycle {} reg {}\".format(self._instr, self.retire_cycle(), register)) \n",
    "        if self._instr == 'addx':\n",
    "            register = register + self._imm\n",
    "        if self._instr == 'noop':\n",
    "            pass\n",
    "        #print(\"  (returning new register {})\".format(register))\n",
    "        return register\n",
    "    \n",
    "class AOCpu(object):\n",
    "    def __init__(self, inpdata):\n",
    "        self._cycle = 0\n",
    "        self._register = 1\n",
    "        self._input = inpdata\n",
    "        self._instructions = process_instructions(self._input)\n",
    "        self._instructions.reverse()\n",
    "        self._retired_inst = []\n",
    "        \n",
    "    def process_to_cycle(self, n):\n",
    "        while self._cycle < n:\n",
    "            self.finish_cycle()\n",
    "            \n",
    "    def finish_cycle(self):\n",
    "        self._cycle += 1        \n",
    "        n = self._cycle\n",
    "        inst = self._instructions[-1]\n",
    "        if inst.retire_cycle() == n:\n",
    "            self._register = inst.execute(self._register)\n",
    "            self._retired_inst.append(self._instructions.pop())\n",
    "\n",
    "    \n",
    "    def signal_strength(self):\n",
    "        return self._register * self._cycle\n",
    "    def register(self):\n",
    "        return self._register"
   ]
  },
  {
   "cell_type": "markdown",
   "id": "98b64823-df37-4079-a7d9-eb956bafeb40",
   "metadata": {
    "tags": []
   },
   "source": [
    "## Part 1"
   ]
  },
  {
   "cell_type": "code",
   "execution_count": null,
   "id": "661f6b0f-c2b5-4372-bca0-9539035d5fe3",
   "metadata": {},
   "outputs": [],
   "source": [
    "cpu = AOCpu(data)"
   ]
  },
  {
   "cell_type": "code",
   "execution_count": null,
   "id": "9847fac9-a1c2-4049-9dfa-16331bdd987b",
   "metadata": {},
   "outputs": [],
   "source": [
    "p = 0\n",
    "for i in [20, 60, 100, 140, 180, 220]:\n",
    "    cpu.process_to_cycle(i)\n",
    "    #print(cpu.signal_strength())\n",
    "    p = p+cpu.signal_strength()\n",
    "ans(p)"
   ]
  },
  {
   "cell_type": "markdown",
   "id": "25164015-0392-4e52-b9e9-8b445028e8f7",
   "metadata": {
    "tags": []
   },
   "source": [
    "## Part 2"
   ]
  },
  {
   "cell_type": "code",
   "execution_count": null,
   "id": "0f9d3408-f3d6-41dd-98c9-3a8b8244e225",
   "metadata": {},
   "outputs": [],
   "source": [
    "class AOCrt(object):\n",
    "    def __init__(self, data):\n",
    "        self._cycle = 0\n",
    "        self._lit_pixels = set()\n",
    "        self.cpu = AOCpu(data)\n",
    "        self._sprite_location = self.cpu.register()\n",
    "        \n",
    "    def process_to_cycle(self, n):\n",
    "        while self._cycle < n:\n",
    "            self._cycle += 1\n",
    "\n",
    "            self.cpu.process_to_cycle(self._cycle)\n",
    "            self._sprite_location = self.cpu.register()\n",
    "            self._draw_at_cycle()\n",
    "            \n",
    "    def _draw_at_cycle(self):\n",
    "        position = (self._cycle-1) % 40 \n",
    "        if position >= self._sprite_location - 1 and \\\n",
    "           position <= self._sprite_location + 1:\n",
    "            self._lit_pixels.add(self._cycle-1%240)\n",
    "            \n",
    "    def draw(self):\n",
    "        strn = \"\"\n",
    "        for i in range(240):\n",
    "            if i in self._lit_pixels:\n",
    "                strn += \"#\"\n",
    "            else:\n",
    "                strn += '.'\n",
    "            if i % 40 == 39:\n",
    "                strn += '\\n'\n",
    "        return strn.strip()\n",
    "    \n",
    "            \n",
    "        "
   ]
  },
  {
   "cell_type": "code",
   "execution_count": null,
   "id": "f964e6ce-f5bf-4d46-a15b-0c015dff5446",
   "metadata": {
    "tags": []
   },
   "outputs": [],
   "source": [
    "crt = AOCrt(data)\n",
    "crt.process_to_cycle(240)\n",
    "strn = crt.draw()\n",
    "print(strn)"
   ]
  },
  {
   "cell_type": "code",
   "execution_count": null,
   "id": "353552eb-9f5d-46f6-a97e-012f70d3ceba",
   "metadata": {},
   "outputs": [],
   "source": [
    "ans('ELPLZGZL')"
   ]
  },
  {
   "cell_type": "markdown",
   "id": "5eebd21b-036d-4140-b98c-8af44f49b3e9",
   "metadata": {
    "jp-MarkdownHeadingCollapsed": true,
    "tags": []
   },
   "source": [
    "## Debug"
   ]
  },
  {
   "cell_type": "code",
   "execution_count": null,
   "id": "25081bcf-0e1a-4896-a151-f6b35e57ec1f",
   "metadata": {
    "jupyter": {
     "source_hidden": true
    },
    "tags": []
   },
   "outputs": [],
   "source": [
    "# test data\n",
    "testdata = \"\"\"addx 15\n",
    "addx -11\n",
    "addx 6\n",
    "addx -3\n",
    "addx 5\n",
    "addx -1\n",
    "addx -8\n",
    "addx 13\n",
    "addx 4\n",
    "noop\n",
    "addx -1\n",
    "addx 5\n",
    "addx -1\n",
    "addx 5\n",
    "addx -1\n",
    "addx 5\n",
    "addx -1\n",
    "addx 5\n",
    "addx -1\n",
    "addx -35\n",
    "addx 1\n",
    "addx 24\n",
    "addx -19\n",
    "addx 1\n",
    "addx 16\n",
    "addx -11\n",
    "noop\n",
    "noop\n",
    "addx 21\n",
    "addx -15\n",
    "noop\n",
    "noop\n",
    "addx -3\n",
    "addx 9\n",
    "addx 1\n",
    "addx -3\n",
    "addx 8\n",
    "addx 1\n",
    "addx 5\n",
    "noop\n",
    "noop\n",
    "noop\n",
    "noop\n",
    "noop\n",
    "addx -36\n",
    "noop\n",
    "addx 1\n",
    "addx 7\n",
    "noop\n",
    "noop\n",
    "noop\n",
    "addx 2\n",
    "addx 6\n",
    "noop\n",
    "noop\n",
    "noop\n",
    "noop\n",
    "noop\n",
    "addx 1\n",
    "noop\n",
    "noop\n",
    "addx 7\n",
    "addx 1\n",
    "noop\n",
    "addx -13\n",
    "addx 13\n",
    "addx 7\n",
    "noop\n",
    "addx 1\n",
    "addx -33\n",
    "noop\n",
    "noop\n",
    "noop\n",
    "addx 2\n",
    "noop\n",
    "noop\n",
    "noop\n",
    "addx 8\n",
    "noop\n",
    "addx -1\n",
    "addx 2\n",
    "addx 1\n",
    "noop\n",
    "addx 17\n",
    "addx -9\n",
    "addx 1\n",
    "addx 1\n",
    "addx -3\n",
    "addx 11\n",
    "noop\n",
    "noop\n",
    "addx 1\n",
    "noop\n",
    "addx 1\n",
    "noop\n",
    "noop\n",
    "addx -13\n",
    "addx -19\n",
    "addx 1\n",
    "addx 3\n",
    "addx 26\n",
    "addx -30\n",
    "addx 12\n",
    "addx -1\n",
    "addx 3\n",
    "addx 1\n",
    "noop\n",
    "noop\n",
    "noop\n",
    "addx -9\n",
    "addx 18\n",
    "addx 1\n",
    "addx 2\n",
    "noop\n",
    "noop\n",
    "addx 9\n",
    "noop\n",
    "noop\n",
    "noop\n",
    "addx -1\n",
    "addx 2\n",
    "addx -37\n",
    "addx 1\n",
    "addx 3\n",
    "noop\n",
    "addx 15\n",
    "addx -21\n",
    "addx 22\n",
    "addx -6\n",
    "addx 1\n",
    "noop\n",
    "addx 2\n",
    "addx 1\n",
    "noop\n",
    "addx -10\n",
    "noop\n",
    "noop\n",
    "addx 20\n",
    "addx 1\n",
    "addx 2\n",
    "addx 2\n",
    "addx -6\n",
    "addx -11\n",
    "noop\n",
    "noop\n",
    "noop\"\"\".split('\\n')"
   ]
  },
  {
   "cell_type": "code",
   "execution_count": null,
   "id": "f7849cfd-e105-406b-a19a-254a006d6ac4",
   "metadata": {},
   "outputs": [],
   "source": [
    "testcpu = AOCrt(testdata)"
   ]
  },
  {
   "cell_type": "code",
   "execution_count": null,
   "id": "cf7b975e-51d3-490a-a38c-a9e05fc8d8f0",
   "metadata": {
    "tags": []
   },
   "outputs": [],
   "source": [
    "testcpu.process_to_cycle(240)"
   ]
  },
  {
   "cell_type": "code",
   "execution_count": null,
   "id": "6b3da1a4-497c-415f-a88d-008344e97c30",
   "metadata": {},
   "outputs": [],
   "source": [
    "testcpu.cpu.register()"
   ]
  },
  {
   "cell_type": "code",
   "execution_count": null,
   "id": "7747a815-89d5-4e95-9585-c3d9f414b76c",
   "metadata": {},
   "outputs": [],
   "source": [
    "print(testcpu.draw())"
   ]
  },
  {
   "cell_type": "code",
   "execution_count": null,
   "id": "b2c13255-d2b2-45c1-b3b5-fae18ef20520",
   "metadata": {},
   "outputs": [],
   "source": []
  },
  {
   "cell_type": "markdown",
   "id": "09144659-a465-42a3-925f-cb54912b4e50",
   "metadata": {},
   "source": [
    "## Notes\n",
    "\n",
    "Spec was a fairly vague on exactly what happened when, *really* needed to code to the example.\n",
    "\n"
   ]
  }
 ],
 "metadata": {
  "kernelspec": {
   "display_name": "Python 3 (ipykernel)",
   "language": "python",
   "name": "python3"
  },
  "language_info": {
   "codemirror_mode": {
    "name": "ipython",
    "version": 3
   },
   "file_extension": ".py",
   "mimetype": "text/x-python",
   "name": "python",
   "nbconvert_exporter": "python",
   "pygments_lexer": "ipython3",
   "version": "3.10.8"
  }
 },
 "nbformat": 4,
 "nbformat_minor": 5
}
