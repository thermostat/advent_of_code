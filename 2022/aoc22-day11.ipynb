{
 "cells": [
  {
   "cell_type": "markdown",
   "id": "22724eff-f786-4fd8-9d07-fccdcb6e9947",
   "metadata": {
    "tags": []
   },
   "source": [
    "\n",
    "# Day 11 AoC\n",
    "\n",
    "🕎 [Day 11 description](https://adventofcode.com/2022/day/11) 🕎\n"
   ]
  },
  {
   "cell_type": "markdown",
   "id": "c6537f20-4a84-4d2a-9d1d-9d845ec26eff",
   "metadata": {
    "tags": []
   },
   "source": [
    "## Setup"
   ]
  },
  {
   "cell_type": "code",
   "execution_count": null,
   "id": "e5b29761-24fc-4d7b-9634-0be054a1aa5d",
   "metadata": {
    "tags": []
   },
   "outputs": [],
   "source": [
    "# imports\n",
    "import os, re, sys, IPython, itertools, operator, functools"
   ]
  },
  {
   "cell_type": "code",
   "execution_count": null,
   "id": "e9b7dd74-d2e2-42a6-a11c-4493798f96bb",
   "metadata": {
    "tags": []
   },
   "outputs": [],
   "source": [
    "# common helper, data import\n",
    "def ans(val):\n",
    "    return IPython.display.Markdown(\"**Answer: {}**\".format(val))\n",
    "\n",
    "data_fd = open('inputs/input-aoc-22-11.txt', 'r')\n",
    "data = data_fd.read().strip().split('\\n\\n')"
   ]
  },
  {
   "cell_type": "code",
   "execution_count": null,
   "id": "fe4ee94e-8766-4480-830a-53234d026372",
   "metadata": {},
   "outputs": [],
   "source": [
    "OPS = {'+' : operator.add,\n",
    "           '*' : operator.mul}\n",
    "\n",
    "def eval_op(old, opstrn):\n",
    "    rhs = opstrn.split('=')[1].strip()\n",
    "    lex = rhs.split(' ')\n",
    "    return eval_lex(old, lex, OPS)\n",
    "\n",
    "    \n",
    "def eval_lex(old, lex, ops):\n",
    "    syms = {'old' : old }\n",
    "    vals = []\n",
    "    if lex[0] in syms:\n",
    "        vals.append(syms[lex[0]])\n",
    "    else:\n",
    "        vals.append(int(lex[0]))\n",
    "    if lex[2] in syms:\n",
    "        vals.append(syms[lex[2]])\n",
    "    else:\n",
    "        vals.append(int(lex[2]))\n",
    "    return functools.reduce(ops[lex[1]], vals)\n",
    "                    \n",
    "    \n",
    "\n",
    "class AOCItem(object):\n",
    "    def __init__(self, worry):\n",
    "        self.worry = int(worry)\n",
    "        \n",
    "    def __repr__(self):\n",
    "        return \"Item worry {}\".format(self.worry)\n",
    "\n",
    "class AOCMonkey(object):\n",
    "    def __init__(self, monkeydata, boredem_adj=True):\n",
    "        monkey_lines = monkeydata.split('\\n')\n",
    "        self._name = re.search(r'Monkey (\\d+):', monkey_lines[0]).groups()[0]\n",
    "        self._items = [ AOCItem(x.strip()) for x in monkey_lines[1].split(\":\")[1].split(',') ]\n",
    "        self._opline = monkey_lines[2]\n",
    "        self._divby = int(monkey_lines[3].split(' ')[-1])\n",
    "        self._truetarget = int(monkey_lines[4].split(' ')[-1])\n",
    "        self._falsetarget = int(monkey_lines[5].split(' ')[-1])\n",
    "        self._inspection_count = 0\n",
    "        self._boredem_adj = boredem_adj\n",
    "        self._lex =  self._opline.split('=')[1].strip().split(' ')\n",
    "        self._modval = None\n",
    "        \n",
    "    def set_all_monkeys(self, allmonkeys, modval=None):\n",
    "        self._all_monkeys = allmonkeys\n",
    "        self._modval = modval\n",
    "        \n",
    "    def add_item(self, item):\n",
    "        self._items.append(item)\n",
    "        \n",
    "    def __repr__(self):\n",
    "        return \"Monkey {} ; items {} ; divby {} ? {} : {}\".format(self._name, repr(self._items), self._divby,\n",
    "                                                                  self._truetarget, self._falsetarget)\n",
    "    \n",
    "                                                                                        \n",
    "    def do_round(self):\n",
    "        self._items.reverse()\n",
    "        while len(self._items):\n",
    "            item = self._items.pop()\n",
    "            self.inspect_item(item)\n",
    "\n",
    "    \n",
    "    def inspect_item(self, item):\n",
    "        self._inspection_count += 1\n",
    "        item.worry = eval_lex(item.worry, self._lex, OPS)\n",
    "        if self._modval:\n",
    "            item.worry = item.worry % self._modval\n",
    "        #bored\n",
    "        if self._boredem_adj:\n",
    "            item.worry = item.worry // 3\n",
    "        target = 0\n",
    "        if item.worry % self._divby == 0:\n",
    "            target = self._truetarget\n",
    "        else:\n",
    "            target = self._falsetarget\n",
    "        self._all_monkeys[target].add_item(item)"
   ]
  },
  {
   "cell_type": "code",
   "execution_count": null,
   "id": "d60623d8-1c14-435a-af6a-66a266f95f2f",
   "metadata": {},
   "outputs": [],
   "source": [
    "monkeys = [ AOCMonkey(x) for x in data ]\n",
    "modval = functools.reduce(operator.mul, [m._divby for m in monkeys])\n",
    "for monkey in monkeys:\n",
    "    monkey.set_all_monkeys(monkeys, modval)\n"
   ]
  },
  {
   "cell_type": "markdown",
   "id": "7d104fb7-a1cc-48b5-a0a0-1294323dbe39",
   "metadata": {},
   "source": [
    "## Part 1"
   ]
  },
  {
   "cell_type": "code",
   "execution_count": null,
   "id": "89bebe7d-3b3b-4178-a418-a7f9795a9058",
   "metadata": {},
   "outputs": [],
   "source": [
    "def one_round(monkeys):\n",
    "    for monkey in monkeys:\n",
    "        monkey.do_round()\n",
    "\n",
    "for i in range(20):\n",
    "    one_round(monkeys)"
   ]
  },
  {
   "cell_type": "code",
   "execution_count": null,
   "id": "9847fac9-a1c2-4049-9dfa-16331bdd987b",
   "metadata": {},
   "outputs": [],
   "source": [
    "z = [ x._inspection_count for x in monkeys ]\n",
    "z.sort()\n",
    "ans(z[-1] * z[-2])"
   ]
  },
  {
   "cell_type": "markdown",
   "id": "25164015-0392-4e52-b9e9-8b445028e8f7",
   "metadata": {
    "tags": []
   },
   "source": [
    "## Part 2"
   ]
  },
  {
   "cell_type": "code",
   "execution_count": null,
   "id": "353552eb-9f5d-46f6-a97e-012f70d3ceba",
   "metadata": {},
   "outputs": [],
   "source": [
    "monkeys2 = [ AOCMonkey(x, boredem_adj=False) for x in data ]\n",
    "modval2 = functools.reduce(operator.mul, [m._divby for m in monkeys2])\n",
    "for monkey in monkeys2:\n",
    "    monkey.set_all_monkeys(monkeys2, modval2)\n",
    "    \n",
    "for i in range(10000):\n",
    "    one_round(monkeys2)"
   ]
  },
  {
   "cell_type": "code",
   "execution_count": null,
   "id": "4037a7bd-683d-4b1c-83d5-a2bef4043427",
   "metadata": {},
   "outputs": [],
   "source": [
    "z2 = [ x._inspection_count for x in monkeys2 ]\n",
    "z2.sort()\n",
    "ans(z2[-1] * z2[-2])"
   ]
  },
  {
   "cell_type": "markdown",
   "id": "09144659-a465-42a3-925f-cb54912b4e50",
   "metadata": {},
   "source": [
    "## Notes\n",
    "\n",
    "Need to brush up on mod arithmetic\n",
    "\n"
   ]
  },
  {
   "cell_type": "code",
   "execution_count": null,
   "id": "0df32b3e-3aff-4609-8fe5-aeeab0d98a22",
   "metadata": {},
   "outputs": [],
   "source": []
  }
 ],
 "metadata": {
  "kernelspec": {
   "display_name": "Python 3 (ipykernel)",
   "language": "python",
   "name": "python3"
  },
  "language_info": {
   "codemirror_mode": {
    "name": "ipython",
    "version": 3
   },
   "file_extension": ".py",
   "mimetype": "text/x-python",
   "name": "python",
   "nbconvert_exporter": "python",
   "pygments_lexer": "ipython3",
   "version": "3.10.8"
  }
 },
 "nbformat": 4,
 "nbformat_minor": 5
}
