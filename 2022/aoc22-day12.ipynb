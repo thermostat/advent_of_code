{
 "cells": [
  {
   "cell_type": "markdown",
   "id": "22724eff-f786-4fd8-9d07-fccdcb6e9947",
   "metadata": {
    "tags": []
   },
   "source": [
    "\n",
    "# Day 12 AoC\n",
    "\n",
    "🕎 [Day 12 description](https://adventofcode.com/2022/day/11) 🕎\n"
   ]
  },
  {
   "cell_type": "markdown",
   "id": "c6537f20-4a84-4d2a-9d1d-9d845ec26eff",
   "metadata": {
    "tags": []
   },
   "source": [
    "## Setup"
   ]
  },
  {
   "cell_type": "code",
   "execution_count": null,
   "id": "e5b29761-24fc-4d7b-9634-0be054a1aa5d",
   "metadata": {
    "tags": []
   },
   "outputs": [],
   "source": [
    "# imports\n",
    "import os, re, sys, IPython, itertools, operator, functools"
   ]
  },
  {
   "cell_type": "code",
   "execution_count": null,
   "id": "e9b7dd74-d2e2-42a6-a11c-4493798f96bb",
   "metadata": {
    "tags": []
   },
   "outputs": [],
   "source": [
    "# common helper, data import\n",
    "def ans(val):\n",
    "    return IPython.display.Markdown(\"**Answer: {}**\".format(val))\n",
    "\n",
    "data_fd = open('inputs/input-aoc-22-12.txt', 'r')\n",
    "data = data_fd.read().strip().split('\\n')"
   ]
  },
  {
   "cell_type": "code",
   "execution_count": null,
   "id": "d60623d8-1c14-435a-af6a-66a266f95f2f",
   "metadata": {},
   "outputs": [],
   "source": [
    "\n",
    "\n",
    "class Land(object):\n",
    "    def __init__(self, charel, coord, lmap):\n",
    "        self.is_start = False\n",
    "        self.is_end = False\n",
    "        self.distance = None\n",
    "        self._charel = charel\n",
    "        if charel == 'S':\n",
    "            self.el = ord('a')\n",
    "            self.is_start = True\n",
    "            self.distance = 0\n",
    "        elif charel == 'E':\n",
    "            self.el = ord('z')\n",
    "            self.is_end = True\n",
    "        else:\n",
    "            self.el = ord(charel)\n",
    "        self._steps = None\n",
    "        self._links = []\n",
    "        self._coord = coord\n",
    "        self._lmap = lmap\n",
    "        \n",
    "        \n",
    "    def coord(self):\n",
    "        return self._coord\n",
    "        \n",
    "    def linkup(self):\n",
    "        adj_land = self._lmap.adj(self)\n",
    "        for land in adj_land:\n",
    "            if land.el - self.el <= 1:\n",
    "                self._links.append(land)\n",
    "    def links(self):\n",
    "        return self._links[:]\n",
    "        \n",
    "\n",
    "class LandMap(object):\n",
    "    def __init__(self, data):\n",
    "        self._data = data\n",
    "        self.start = None\n",
    "        self.end = None\n",
    "        self._size = (len(data), len(data[0]))\n",
    "        self._land = [[None]*self._size[1] for i in range(self._size[0])]\n",
    "        self._populate()\n",
    "\n",
    "    def _populate(self):\n",
    "        for i in range(self._size[0]):\n",
    "            for j in range(self._size[1]):\n",
    "                self._land[i][j] = Land(self._data[i][j], (i,j), self)\n",
    "                \n",
    "        for l in self._land:\n",
    "            for land in l:\n",
    "                land.linkup()\n",
    "                if land.is_start:\n",
    "                    self.start = land\n",
    "                if land.is_end:\n",
    "                    self.end = land\n",
    "        \n",
    "    def adj(self, land):\n",
    "        inmapcoord = lambda c: c[0] >= 0 and c[1] >= 0 and c[0] < self._size[0] and c[1] < self._size[1]\n",
    "        lc = land.coord()\n",
    "        coords = [ (lc[0]+1, lc[1]), (lc[0]-1, lc[1]), (lc[0], lc[1]+1), (lc[0], lc[1]-1) ]\n",
    "        return [ self.find(x) for x in coords if inmapcoord(x) ]\n",
    "    \n",
    "    def find(self, coord):\n",
    "        return self._land[coord[0]][coord[1]]\n",
    "    \n",
    "    def print(self, key=None):\n",
    "        lines = []\n",
    "        for l in self._land:\n",
    "            lines.append(\"|\".join([str(x.distance) for x in l]))\n",
    "        print(\"\\n\".join(lines))\n",
    "        \n",
    "    def print_adj(self):\n",
    "        lines = []\n",
    "        for i in range(self._size[0]):\n",
    "            line = \"\"\n",
    "            for j in range(self._size[1]):\n",
    "                land = self.find((i,j))\n",
    "                if land in self._foundset:\n",
    "                    line = line + \"$\"\n",
    "                else:\n",
    "                    line = line + land._charel\n",
    "                if j+1 < self._size[1]:\n",
    "                    if self.find((i,j+1)) in land.links():\n",
    "                        line = line+\"#\"\n",
    "                    else:\n",
    "                        line = line+\"|\"\n",
    "            lines.append(line)\n",
    "            if i+1 < self._size[0]:\n",
    "                line2 = \"\"\n",
    "                for j in range(self._size[1]):\n",
    "                    land = self.find((i,j))\n",
    "                    if self.find((i+1, j)) in land.links():\n",
    "                        line2 = line2 + \"# \"\n",
    "                    else:\n",
    "                        line2 = line2 + \"- \"\n",
    "                lines.append(line2)\n",
    "        print(\"\\n\".join(lines))\n",
    "        \n",
    "    def calc_distance(self):\n",
    "        count = 0\n",
    "        for l in self._land:\n",
    "            for land in l:\n",
    "                land.distance = None\n",
    "                count+=1\n",
    "        self.start.distance = 0\n",
    "        done = set()\n",
    "        done.add(self.start)\n",
    "        #print(\"{} of {} done\".format(len(done), count))\n",
    "        work = []\n",
    "        new_links = self.start.links()\n",
    "        for l in new_links:\n",
    "            l.distance = 1\n",
    "        work.extend(new_links)\n",
    "        while len(work):\n",
    "            work.sort(key=lambda x:x.distance,reverse=True)\n",
    "            land = work.pop()\n",
    "            if land in done:\n",
    "                continue\n",
    "            new_links = land.links()\n",
    "            done.add(land)\n",
    "            #print(\"{} of {} done\".format(len(done), count))\n",
    "            for l in new_links:\n",
    "                if l in done:\n",
    "                    continue\n",
    "                l.distance = land.distance+1\n",
    "                work.append(l)\n",
    "        self._foundset = done\n",
    "\n",
    "                \n",
    "        "
   ]
  },
  {
   "cell_type": "markdown",
   "id": "7d104fb7-a1cc-48b5-a0a0-1294323dbe39",
   "metadata": {},
   "source": [
    "## Part 1"
   ]
  },
  {
   "cell_type": "code",
   "execution_count": null,
   "id": "56acbb06-56c2-4eba-802e-2778b8e5451d",
   "metadata": {},
   "outputs": [],
   "source": [
    "lmap = LandMap(data)"
   ]
  },
  {
   "cell_type": "code",
   "execution_count": null,
   "id": "d4289f59-c498-4a89-b4e3-e570c2f79d46",
   "metadata": {},
   "outputs": [],
   "source": [
    "lmap.calc_distance()"
   ]
  },
  {
   "cell_type": "code",
   "execution_count": null,
   "id": "9cdbdf9f-944e-457e-9145-9cc9aaf06e53",
   "metadata": {},
   "outputs": [],
   "source": [
    "ans(lmap.end.distance)"
   ]
  },
  {
   "cell_type": "markdown",
   "id": "25164015-0392-4e52-b9e9-8b445028e8f7",
   "metadata": {
    "tags": []
   },
   "source": [
    "## Part 2"
   ]
  },
  {
   "cell_type": "code",
   "execution_count": null,
   "id": "fde6f28d-32ae-431a-b8ba-d79962c564a5",
   "metadata": {},
   "outputs": [],
   "source": [
    "alands = []\n",
    "for l in lmap._land:\n",
    "    for land in l:\n",
    "        if land._charel == 'a' or land._charel == 'S':\n",
    "            alands.append(land)\n"
   ]
  },
  {
   "cell_type": "code",
   "execution_count": null,
   "id": "7b5271a5-c7a8-41f4-b9a9-8d2a7918c6fa",
   "metadata": {},
   "outputs": [],
   "source": [
    "mina = 409\n",
    "for land in alands:\n",
    "    lmap.start = land\n",
    "    lmap.calc_distance()\n",
    "    if lmap.end.distance and lmap.end.distance < mina:\n",
    "        mina = lmap.end.distance\n",
    "ans(mina)"
   ]
  },
  {
   "cell_type": "markdown",
   "id": "09144659-a465-42a3-925f-cb54912b4e50",
   "metadata": {},
   "source": [
    "## Notes\n"
   ]
  },
  {
   "cell_type": "markdown",
   "id": "d8947d1f-d571-44f9-90e6-8932ded29937",
   "metadata": {},
   "source": [
    "Reading comprehension! I didn't process the note:\n",
    "\n",
    "```(This also means that the elevation of the destination square can be much lower than the elevation of your current square.)```\n",
    "\n",
    "So, I assumed you could only go up or down a single value.\n",
    "\n",
    "The right way to do part 2 is all-points shortest path from E with links reversed, but just iterating through all of them was easy with the implementation of part 1"
   ]
  }
 ],
 "metadata": {
  "kernelspec": {
   "display_name": "Python 3 (ipykernel)",
   "language": "python",
   "name": "python3"
  },
  "language_info": {
   "codemirror_mode": {
    "name": "ipython",
    "version": 3
   },
   "file_extension": ".py",
   "mimetype": "text/x-python",
   "name": "python",
   "nbconvert_exporter": "python",
   "pygments_lexer": "ipython3",
   "version": "3.10.8"
  }
 },
 "nbformat": 4,
 "nbformat_minor": 5
}
