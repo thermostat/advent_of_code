{
 "cells": [
  {
   "cell_type": "markdown",
   "id": "22724eff-f786-4fd8-9d07-fccdcb6e9947",
   "metadata": {
    "tags": []
   },
   "source": [
    "\n",
    "# Day 17 AoC\n",
    "\n",
    "🕎 [Day 17 description](https://adventofcode.com/2022/day/17) 🕎\n"
   ]
  },
  {
   "cell_type": "markdown",
   "id": "c6537f20-4a84-4d2a-9d1d-9d845ec26eff",
   "metadata": {
    "tags": []
   },
   "source": [
    "## Setup"
   ]
  },
  {
   "cell_type": "code",
   "execution_count": 1,
   "id": "e5b29761-24fc-4d7b-9634-0be054a1aa5d",
   "metadata": {
    "tags": []
   },
   "outputs": [],
   "source": [
    "# imports\n",
    "import os, re, sys, IPython, itertools, operator, functools, datetime, heapq, random\n",
    "\n",
    "starttime = datetime.datetime.now()"
   ]
  },
  {
   "cell_type": "code",
   "execution_count": 2,
   "id": "e7e60537-971a-4a9f-bb42-a3ebd6e898a8",
   "metadata": {},
   "outputs": [],
   "source": [
    "# common helper, data import\n",
    "def ans(val):\n",
    "    return IPython.display.Markdown(\"**Answer: {}**\".format(val))\n",
    "\n",
    "data_fd = open('inputs/input-aoc-22-17.txt', 'r')\n",
    "data = data_fd.read().strip()"
   ]
  },
  {
   "cell_type": "code",
   "execution_count": 3,
   "id": "0908f0fe-809a-4a30-8e91-ab23ded7ff8f",
   "metadata": {},
   "outputs": [
    {
     "data": {
      "text/plain": [
       "10091"
      ]
     },
     "execution_count": 3,
     "metadata": {},
     "output_type": "execute_result"
    }
   ],
   "source": [
    "len(data)"
   ]
  },
  {
   "cell_type": "code",
   "execution_count": 160,
   "id": "69a3f555-3cd1-48df-b7c5-ff0ff1d2dddd",
   "metadata": {},
   "outputs": [],
   "source": [
    "WIDTH = 7\n",
    "\n",
    "class Shape(object):\n",
    "    def __init__(self, lowest, highest):\n",
    "        self.lowest = lowest\n",
    "        self.highest = highest\n",
    "        \n",
    "    def can_move_to(self, leftmost):\n",
    "        #print(f\"checking can_move_to {leftmost}, {self.width()}\")\n",
    "        if leftmost < 0 or leftmost + self.width() > 7:\n",
    "            #print(f\"checking can_move_to {leftmost}, {self.width()}: False\")\n",
    "            return False\n",
    "        #print(f\"checking can_move_to {leftmost}, {self.width()}: True\")\n",
    "        return True\n",
    "    \n",
    "    def width(self):\n",
    "        return len([x for x in self.lowest if x != None])\n",
    "        \n",
    "class Board(object):\n",
    "    def __init__(self, jets, width=7):\n",
    "        self.width = width\n",
    "        self.top = [0]*self.width\n",
    "        self.jets = jets\n",
    "        self.jet_idx = 0\n",
    "        self._logging = False\n",
    "        \n",
    "    def _jet_push(self, leftmost, shape):\n",
    "        #print(\"jet push\")\n",
    "        move = self.jets[self.jet_idx]\n",
    "        self.jet_idx = (self.jet_idx + 1) % len(self.jets)\n",
    "        assert move in ['<', '>'], \"Bad move\"\n",
    "        leftmove = bool(move=='<')\n",
    "        rightmove = bool(move=='>')\n",
    "        #self.log(f\"Move is {move}, can move left? {shape.can_move_to(leftmost-1)}, can move right? {shape.can_move_to(leftmost+1)}\")\n",
    "        #self.log(f\"Move is equal to <: {leftmove}, move is equal to >: {rightmove}\")\n",
    "        if leftmove and shape.can_move_to(leftmost-1):\n",
    "            leftmost -= 1\n",
    "            self.log(f\"push {move} : {leftmost}\")\n",
    "        elif rightmove and shape.can_move_to(leftmost+1):\n",
    "            leftmost += 1\n",
    "            self.log(f\"push {move} : {leftmost}\")\n",
    "        else:\n",
    "            self.log(f\"nonpush {move} : {leftmost}\")\n",
    "        return leftmost\n",
    "        \n",
    "    def _check_collision(self, shape, leftmost, adj):\n",
    "        maxheight = max(self.top)\n",
    "        normal = [ x-maxheight+adj for x in self.top ]\n",
    "        self.log(f\"checking normal {normal} vs {shape.lowest} at adj={adj}, leftmost={leftmost}\")\n",
    "        for col,i in enumerate(shape.lowest):\n",
    "            if (i!=None) and (i >= normal[leftmost+i]):\n",
    "                self.log(f\"collision: column {col}, value {i}\")\n",
    "                return col\n",
    "        return None\n",
    "        \n",
    "    def _add_shape_height(self, shape, leftmost, adj, i):\n",
    "        r = [ self.top[leftmost+i] + shape.highest[j] for j in range(len(shape.highest)) if shape.highest[j] !=None ]\n",
    "        print(\"highest {} | leftmost {} | adj {} | i {} | r {} | top[lm+i] {}\".format(shape.highest, leftmost, adj, \n",
    "                                                                                      i, r, self.top[leftmost+i]))\n",
    "        for j in range(len(shape.highest)):\n",
    "            if shape.highest[j] != None:\n",
    "                self.top[j+leftmost] = r[j] - adj\n",
    "            \n",
    "    def log(self, msg):\n",
    "        if self._logging:\n",
    "            print(msg)\n",
    "            \n",
    "    def shape_appears(self, shape):\n",
    "        leftmost = 2\n",
    "        overheight = 3\n",
    "        while overheight > 0:\n",
    "            leftmost = self._jet_push(leftmost, shape)\n",
    "            overheight -= 1\n",
    "        adj = -1\n",
    "        collide = False\n",
    "        i = 0\n",
    "        while not collide:\n",
    "            adj += 1\n",
    "            assert adj < 10, \"cant fall that far\"\n",
    "            leftmost = self._jet_push(leftmost, shape)\n",
    "            i = self._check_collision(shape, leftmost, adj)\n",
    "            if i != None:\n",
    "                collide = True\n",
    "        self._add_shape_height(shape, leftmost, adj,i)\n",
    "        "
   ]
  },
  {
   "cell_type": "code",
   "execution_count": 150,
   "id": "cf5750c7-1ac8-43a8-a60d-b773b29d8994",
   "metadata": {},
   "outputs": [],
   "source": [
    "SHAPES = [ Shape([0,0,0,0], [1,1,1,1]),\n",
    "           Shape([1,0,1,None], [2,3,2,None]),\n",
    "           Shape([0,0,0,None], [1,1,3,None]),\n",
    "           Shape([0,None,None,None], [4,None,None,None]),\n",
    "           Shape([0,0,None,None], [2,2,None,None]) \n",
    "         ]\n",
    "          "
   ]
  },
  {
   "cell_type": "code",
   "execution_count": 13,
   "id": "0d57e8e2-afde-42ca-bb41-3bff206c8068",
   "metadata": {},
   "outputs": [
    {
     "ename": "AssertionError",
     "evalue": "cant fall that far",
     "output_type": "error",
     "traceback": [
      "\u001b[0;31m---------------------------------------------------------------------------\u001b[0m",
      "\u001b[0;31mAssertionError\u001b[0m                            Traceback (most recent call last)",
      "Cell \u001b[0;32mIn [13], line 5\u001b[0m\n\u001b[1;32m      3\u001b[0m shape_count \u001b[38;5;241m=\u001b[39m \u001b[38;5;241m0\u001b[39m\n\u001b[1;32m      4\u001b[0m \u001b[38;5;28;01mwhile\u001b[39;00m shape_count \u001b[38;5;241m<\u001b[39m \u001b[38;5;241m2022\u001b[39m:\n\u001b[0;32m----> 5\u001b[0m     \u001b[43mboard\u001b[49m\u001b[38;5;241;43m.\u001b[39;49m\u001b[43mshape_appears\u001b[49m\u001b[43m(\u001b[49m\u001b[38;5;28;43mnext\u001b[39;49m\u001b[43m(\u001b[49m\u001b[43mshape_iter\u001b[49m\u001b[43m)\u001b[49m\u001b[43m)\u001b[49m\n\u001b[1;32m      6\u001b[0m     shape_count \u001b[38;5;241m+\u001b[39m\u001b[38;5;241m=\u001b[39m \u001b[38;5;241m1\u001b[39m\n\u001b[1;32m      7\u001b[0m ans(\u001b[38;5;28mmax\u001b[39m(board\u001b[38;5;241m.\u001b[39mtop))\n",
      "Cell \u001b[0;32mIn [11], line 60\u001b[0m, in \u001b[0;36mBoard.shape_appears\u001b[0;34m(self, shape)\u001b[0m\n\u001b[1;32m     58\u001b[0m \u001b[38;5;28;01mwhile\u001b[39;00m \u001b[38;5;129;01mnot\u001b[39;00m collide:\n\u001b[1;32m     59\u001b[0m     adj \u001b[38;5;241m+\u001b[39m\u001b[38;5;241m=\u001b[39m \u001b[38;5;241m1\u001b[39m\n\u001b[0;32m---> 60\u001b[0m     \u001b[38;5;28;01massert\u001b[39;00m adj \u001b[38;5;241m<\u001b[39m \u001b[38;5;241m5\u001b[39m, \u001b[38;5;124m\"\u001b[39m\u001b[38;5;124mcant fall that far\u001b[39m\u001b[38;5;124m\"\u001b[39m\n\u001b[1;32m     61\u001b[0m     leftmost \u001b[38;5;241m=\u001b[39m \u001b[38;5;28mself\u001b[39m\u001b[38;5;241m.\u001b[39m_jet_push(leftmost, shape)\n\u001b[1;32m     62\u001b[0m     collide \u001b[38;5;241m=\u001b[39m \u001b[38;5;28mself\u001b[39m\u001b[38;5;241m.\u001b[39m_check_collision(shape, leftmost, adj)\n",
      "\u001b[0;31mAssertionError\u001b[0m: cant fall that far"
     ]
    }
   ],
   "source": [
    "shape_iter = itertools.cycle(SHAPES)\n",
    "board = Board(data)\n",
    "shape_count = 0\n",
    "while shape_count < 2022:\n",
    "    board.shape_appears(next(shape_iter))\n",
    "    shape_count += 1\n",
    "ans(max(board.top))"
   ]
  },
  {
   "cell_type": "code",
   "execution_count": 7,
   "id": "355736de-1725-45ba-b3e8-6dd37b9bc4b0",
   "metadata": {},
   "outputs": [
    {
     "name": "stdout",
     "output_type": "stream",
     "text": [
      "2\n"
     ]
    }
   ],
   "source": [
    "print(shape_count)"
   ]
  },
  {
   "cell_type": "code",
   "execution_count": 154,
   "id": "cb23ddfa-e9d6-4e8a-8d9e-f6ca4797c74c",
   "metadata": {},
   "outputs": [
    {
     "name": "stdout",
     "output_type": "stream",
     "text": [
      "highest [1, 1, 1, 1] | leftmost 2 | adj 0 | i 0 | r [1, 1, 1, 1] | top[lm+i] 0\n",
      "[0, 0, 1, 1, 1, 1, 0]\n"
     ]
    }
   ],
   "source": [
    "b = Board(data)\n",
    "b.shape_appears(SHAPES[0])\n",
    "print(b.top)"
   ]
  },
  {
   "cell_type": "code",
   "execution_count": 60,
   "id": "61c60c97-bde9-4372-a71a-f48f15ad616d",
   "metadata": {},
   "outputs": [
    {
     "name": "stdout",
     "output_type": "stream",
     "text": [
      "[0, 1, 3, 4, 3, 0, 0]\n"
     ]
    }
   ],
   "source": [
    "b.shape_appears(SHAPES[1])\n",
    "print(b.top)"
   ]
  },
  {
   "cell_type": "code",
   "execution_count": 61,
   "id": "233e750e-0705-4297-bc19-bb2dc7d6542b",
   "metadata": {},
   "outputs": [
    {
     "name": "stdout",
     "output_type": "stream",
     "text": [
      "push > : 3\n",
      "nonpush > : 3\n",
      "nonpush > : 3\n",
      "push < : 2\n",
      "checking normal [-4, -3, -1, 0, -1, -4, -4] vs [0, 0, 0, None] at adj=0, leftmost=2\n",
      "[0, 1, 4, 5, 6, 0, 0]\n"
     ]
    }
   ],
   "source": [
    "b._logging = True\n",
    "b.shape_appears(SHAPES[2])\n",
    "print(b.top)"
   ]
  },
  {
   "cell_type": "markdown",
   "id": "7d104fb7-a1cc-48b5-a0a0-1294323dbe39",
   "metadata": {},
   "source": [
    "## Part 1"
   ]
  },
  {
   "cell_type": "markdown",
   "id": "25164015-0392-4e52-b9e9-8b445028e8f7",
   "metadata": {
    "tags": []
   },
   "source": [
    "## Part 2"
   ]
  },
  {
   "cell_type": "markdown",
   "id": "09144659-a465-42a3-925f-cb54912b4e50",
   "metadata": {},
   "source": [
    "## Notes\n"
   ]
  },
  {
   "cell_type": "markdown",
   "id": "d8947d1f-d571-44f9-90e6-8932ded29937",
   "metadata": {
    "tags": []
   },
   "source": [
    "## Bugs\n",
    "\n"
   ]
  },
  {
   "cell_type": "markdown",
   "id": "dfd0990d-f0e4-4ad3-bc49-505e905856e4",
   "metadata": {},
   "source": [
    "## Test\n",
    "\n"
   ]
  },
  {
   "cell_type": "code",
   "execution_count": 98,
   "id": "014049f7-1beb-4c31-be87-d11af26bb3b5",
   "metadata": {},
   "outputs": [],
   "source": [
    "tdata = \">>><<><>><<<>><>>><<<>>><<<><<<>><>><<>>\""
   ]
  },
  {
   "cell_type": "code",
   "execution_count": 34,
   "id": "01682993-b462-4855-b827-5adfafad7b3b",
   "metadata": {},
   "outputs": [
    {
     "ename": "TypeError",
     "evalue": "'list' object is not callable",
     "output_type": "error",
     "traceback": [
      "\u001b[0;31m---------------------------------------------------------------------------\u001b[0m",
      "\u001b[0;31mTypeError\u001b[0m                                 Traceback (most recent call last)",
      "Cell \u001b[0;32mIn [34], line 8\u001b[0m\n\u001b[1;32m      6\u001b[0m     tboard\u001b[38;5;241m.\u001b[39mshape_appears(\u001b[38;5;28mnext\u001b[39m(tshape_iter))\n\u001b[1;32m      7\u001b[0m     shape_count \u001b[38;5;241m+\u001b[39m\u001b[38;5;241m=\u001b[39m \u001b[38;5;241m1\u001b[39m\n\u001b[0;32m----> 8\u001b[0m \u001b[38;5;28mprint\u001b[39m(\u001b[43mtboard\u001b[49m\u001b[38;5;241;43m.\u001b[39;49m\u001b[43mtop\u001b[49m\u001b[43m(\u001b[49m\u001b[43m)\u001b[49m)\n",
      "\u001b[0;31mTypeError\u001b[0m: 'list' object is not callable"
     ]
    }
   ],
   "source": [
    "\n",
    "tshape_iter = itertools.cycle(SHAPES)\n",
    "tboard = Board(tdata)\n",
    "shape_count = 0\n",
    "while shape_count < 2022:\n",
    "    tboard.shape_appears(next(tshape_iter))\n",
    "    shape_count += 1\n",
    "print(tboard.top())"
   ]
  },
  {
   "cell_type": "code",
   "execution_count": 161,
   "id": "426987a7-d8f4-47c2-b1b6-74f4d4cdfd22",
   "metadata": {},
   "outputs": [],
   "source": [
    "tb = Board(tdata)"
   ]
  },
  {
   "cell_type": "code",
   "execution_count": 162,
   "id": "91e1cf82-bbbe-4da5-a3d9-2570ddaef758",
   "metadata": {},
   "outputs": [
    {
     "name": "stdout",
     "output_type": "stream",
     "text": [
      "push > : 3\n",
      "nonpush > : 3\n",
      "nonpush > : 3\n",
      "push < : 2\n",
      "checking normal [0, 0, 0, 0, 0, 0, 0] vs [0, 0, 0, 0] at adj=0, leftmost=2\n",
      "collision: column 0, value 0\n",
      "highest [1, 1, 1, 1] | leftmost 2 | adj 0 | i 0 | r [1, 1, 1, 1] | top[lm+i] 0\n",
      "[0, 0, 1, 1, 1, 1, 0]\n",
      "push < : 1\n",
      "push > : 2\n",
      "push < : 1\n",
      "push > : 2\n",
      "checking normal [-1, -1, 0, 0, 0, 0, -1] vs [1, 0, 1, None] at adj=0, leftmost=2\n",
      "collision: column 0, value 1\n",
      "highest [2, 3, 2, None] | leftmost 2 | adj 0 | i 0 | r [3, 4, 3] | top[lm+i] 1\n",
      "[0, 0, 3, 4, 3, 1, 0]\n",
      "push > : 3\n",
      "push < : 2\n",
      "push < : 1\n",
      "push < : 0\n",
      "checking normal [-4, -4, -1, 0, -1, -3, -4] vs [0, 0, 0, None] at adj=0, leftmost=0\n",
      "collision: column 0, value 0\n",
      "highest [1, 1, 3, None] | leftmost 0 | adj 0 | i 0 | r [1, 1, 3] | top[lm+i] 0\n",
      "[1, 1, 3, 4, 3, 1, 0]\n"
     ]
    }
   ],
   "source": [
    "tb._logging = True\n",
    "tb.shape_appears(SHAPES[0])\n",
    "print(tb.top)\n",
    "tb.shape_appears(SHAPES[1])\n",
    "print(tb.top)\n",
    "tb.shape_appears(SHAPES[2])\n",
    "print(tb.top)"
   ]
  },
  {
   "cell_type": "code",
   "execution_count": 86,
   "id": "61116d5b-6b45-445c-a41b-5e35857b9a75",
   "metadata": {},
   "outputs": [
    {
     "name": "stdout",
     "output_type": "stream",
     "text": [
      "checking can_move_to 0, 4\n"
     ]
    },
    {
     "data": {
      "text/plain": [
       "True"
      ]
     },
     "execution_count": 86,
     "metadata": {},
     "output_type": "execute_result"
    }
   ],
   "source": [
    "SHAPES[0].can_move_to(0)"
   ]
  },
  {
   "cell_type": "code",
   "execution_count": null,
   "id": "9eea96ea-054b-42d3-9fae-54bf8927fe43",
   "metadata": {},
   "outputs": [],
   "source": []
  }
 ],
 "metadata": {
  "kernelspec": {
   "display_name": "Python 3 (ipykernel)",
   "language": "python",
   "name": "python3"
  },
  "language_info": {
   "codemirror_mode": {
    "name": "ipython",
    "version": 3
   },
   "file_extension": ".py",
   "mimetype": "text/x-python",
   "name": "python",
   "nbconvert_exporter": "python",
   "pygments_lexer": "ipython3",
   "version": "3.10.8"
  }
 },
 "nbformat": 4,
 "nbformat_minor": 5
}
