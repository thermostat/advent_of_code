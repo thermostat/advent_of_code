{
 "cells": [
  {
   "cell_type": "markdown",
   "id": "22724eff-f786-4fd8-9d07-fccdcb6e9947",
   "metadata": {
    "tags": []
   },
   "source": [
    "![ascii dreidel](media/dreidel.svg)\n",
    "\n",
    "# Day 9 AoC\n",
    "\n",
    "🕎 [Day 9 description](https://adventofcode.com/2022/day/9) 🕎\n"
   ]
  },
  {
   "cell_type": "markdown",
   "id": "c6537f20-4a84-4d2a-9d1d-9d845ec26eff",
   "metadata": {
    "tags": []
   },
   "source": [
    "## Setup"
   ]
  },
  {
   "cell_type": "code",
   "execution_count": null,
   "id": "e5b29761-24fc-4d7b-9634-0be054a1aa5d",
   "metadata": {
    "tags": []
   },
   "outputs": [],
   "source": [
    "# imports\n",
    "import os, re, sys, IPython, itertools"
   ]
  },
  {
   "cell_type": "code",
   "execution_count": null,
   "id": "e9b7dd74-d2e2-42a6-a11c-4493798f96bb",
   "metadata": {
    "tags": []
   },
   "outputs": [],
   "source": [
    "# common helper, data import\n",
    "def ans(val):\n",
    "    return IPython.display.Markdown(\"**Answer: {}**\".format(val))\n",
    "\n",
    "data_fd = open('inputs/input-aoc-22-09.txt', 'r')\n",
    "data = data_fd.read().strip().split('\\n')"
   ]
  },
  {
   "cell_type": "code",
   "execution_count": null,
   "id": "86f3f1aa-2270-4cf5-8581-82a0bb12ad02",
   "metadata": {},
   "outputs": [],
   "source": [
    "data[0]"
   ]
  },
  {
   "cell_type": "code",
   "execution_count": null,
   "id": "02cfd773-89c3-49b5-abff-86fbe21e9400",
   "metadata": {},
   "outputs": [],
   "source": [
    "def toward(first, second):\n",
    "    if second > first:\n",
    "        return first + 1\n",
    "    elif second < first:\n",
    "        return first - 1\n",
    "    else:\n",
    "        return first\n",
    "\n",
    "class Rope(object):\n",
    "    def __init__(self, length):\n",
    "        self._length = length\n",
    "        self._head = (0,0)\n",
    "        self._tails = []\n",
    "        self._tails_path = []\n",
    "        for i in range(length):\n",
    "            self._tails.append((0,0))\n",
    "            self._tails_path.append([self._tails[-1]])\n",
    "        self._head_path = [self._head]\n",
    "\n",
    "        \n",
    "    def update(self, strn):\n",
    "        direction, dist = strn.split(' ')\n",
    "        dist = int(dist)\n",
    "        for i in range(dist):\n",
    "            self._update_head(direction)\n",
    "            for j in range(self._length):\n",
    "                self._update_tail(j)\n",
    "                self._tails_path[j].append(self._tails[j])\n",
    "            self._head_path.append(self._head)\n",
    "            \n",
    "        \n",
    "    def _update_head(self, direction):\n",
    "        if direction == 'U':\n",
    "            self._head = (self._head[0], self._head[1]+1)\n",
    "        elif direction == 'D':\n",
    "            self._head = (self._head[0], self._head[1]-1)\n",
    "        elif direction == 'R':\n",
    "            self._head = (self._head[0]+1, self._head[1])\n",
    "        elif direction == 'L':\n",
    "            self._head = (self._head[0]-1, self._head[1])\n",
    "    \n",
    "    def _update_tail(self, idx):\n",
    "        tail = self._tails[idx]\n",
    "        head = self._head\n",
    "        if idx > 0:\n",
    "            head = self._tails[idx-1]\n",
    "        if ((abs(head[0] - tail[0]) > 1) and \\\n",
    "           (abs(head[1] - tail[1]) > 0)) or \\\n",
    "           ((abs(head[0] - tail[0]) > 0) and \\\n",
    "            (abs(head[1] - tail[1]) > 1)):\n",
    "            tail = (toward(tail[0], head[0]),\n",
    "                    toward(tail[1], head[1]))\n",
    "        elif abs(head[0] - tail[0]) > 1:\n",
    "            tail = (toward(tail[0], head[0]),\n",
    "                          tail[1])\n",
    "        elif abs(head[1] - tail[1]) > 1:\n",
    "            tail = (tail[0],\n",
    "                    toward(tail[1], head[1]))\n",
    "        self._tails[idx] = tail\n",
    "\n",
    "    def run(self, data):\n",
    "        for line in data:\n",
    "            self.update(line)\n",
    "            \n",
    "    def tail_visit_set(self, i):\n",
    "        return set(self._tails_path[i])\n",
    "            "
   ]
  },
  {
   "cell_type": "markdown",
   "id": "98b64823-df37-4079-a7d9-eb956bafeb40",
   "metadata": {
    "tags": []
   },
   "source": [
    "## Part 1"
   ]
  },
  {
   "cell_type": "code",
   "execution_count": null,
   "id": "805b4f74-1d8e-40e4-83a5-eea421b60f09",
   "metadata": {},
   "outputs": [],
   "source": [
    "rope = Rope(1)\n",
    "rope.run(data)\n",
    "ans(len(rope.tail_visit_set(0)))"
   ]
  },
  {
   "cell_type": "markdown",
   "id": "25164015-0392-4e52-b9e9-8b445028e8f7",
   "metadata": {
    "tags": []
   },
   "source": [
    "## Part 2"
   ]
  },
  {
   "cell_type": "code",
   "execution_count": null,
   "id": "a5f6772c-77fb-499f-ae15-ac7e05aa6c2a",
   "metadata": {},
   "outputs": [],
   "source": [
    "rope = Rope(9)\n",
    "rope.run(data)\n",
    "ans(len(rope.tail_visit_set(8)))"
   ]
  },
  {
   "cell_type": "markdown",
   "id": "f9735753-6417-4701-b25a-19970904d133",
   "metadata": {
    "tags": []
   },
   "source": [
    "## Notes\n",
    "\n"
   ]
  },
  {
   "cell_type": "markdown",
   "id": "fd78d049-5b64-42ea-840a-2f9f846187ea",
   "metadata": {},
   "source": [
    "In terms of generalization between part 1 and part 2, the biggest failing was update_tail should have just been in terms of two coordinates, rather than the `head_` and `tail_` data member. The rest of the refactoring wasn't too difficult.\n",
    "\n",
    "### Bugs:\n",
    "\n",
    "Part 1\n",
    "* Didn't actual move distance\n",
    "* Didn't have correct logic for diagonal movement\n",
    "\n",
    "Part 2\n",
    "* Generalization - didn't update `self._head` in `update_tail` to be the previous tail."
   ]
  }
 ],
 "metadata": {
  "kernelspec": {
   "display_name": "Python 3 (ipykernel)",
   "language": "python",
   "name": "python3"
  },
  "language_info": {
   "codemirror_mode": {
    "name": "ipython",
    "version": 3
   },
   "file_extension": ".py",
   "mimetype": "text/x-python",
   "name": "python",
   "nbconvert_exporter": "python",
   "pygments_lexer": "ipython3",
   "version": "3.10.8"
  }
 },
 "nbformat": 4,
 "nbformat_minor": 5
}
