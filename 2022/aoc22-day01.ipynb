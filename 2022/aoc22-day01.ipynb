{
 "cells": [
  {
   "cell_type": "markdown",
   "id": "3527cc81-b3ab-40f4-b8ae-cf697bd082d3",
   "metadata": {},
   "source": [
    "# Advent of code 2022\n",
    "\n",
    "Day 1\n",
    "\n",
    "[Link](https://adventofcode.com/2022/day/1)"
   ]
  },
  {
   "cell_type": "code",
   "execution_count": null,
   "id": "2a85b6c5-8de5-4420-b0d2-9b6682568406",
   "metadata": {},
   "outputs": [],
   "source": [
    "data_fd = open('inputs/input-aoc-22-1.txt', 'r')"
   ]
  },
  {
   "cell_type": "code",
   "execution_count": null,
   "id": "e49d6e4c-f573-426a-86ba-840b16812d96",
   "metadata": {},
   "outputs": [],
   "source": [
    "data = data_fd.read()"
   ]
  },
  {
   "cell_type": "code",
   "execution_count": null,
   "id": "7476605d-8d9b-4338-8ae3-23cee4b9ed9d",
   "metadata": {},
   "outputs": [],
   "source": [
    "groups = data.split('\\n\\n')"
   ]
  },
  {
   "cell_type": "code",
   "execution_count": null,
   "id": "70f781f3-a76f-423b-90db-c16ef58b81cb",
   "metadata": {},
   "outputs": [],
   "source": [
    "numeric_groups = [ [ int(x) for x in y.split('\\n') if x ] for y in groups ]"
   ]
  },
  {
   "cell_type": "code",
   "execution_count": null,
   "id": "38548e90-845b-4093-874e-a032efa1efe9",
   "metadata": {},
   "outputs": [],
   "source": [
    "sum_groups = [sum(x) for x in numeric_groups]"
   ]
  },
  {
   "cell_type": "markdown",
   "id": "b8d79a96-c8c5-4de2-8ce3-299ca039b5d7",
   "metadata": {},
   "source": [
    "# Answer, part 1"
   ]
  },
  {
   "cell_type": "code",
   "execution_count": null,
   "id": "3bd90cda-996f-4337-bd21-144edee57bd4",
   "metadata": {},
   "outputs": [],
   "source": [
    "max(sum_groups)"
   ]
  },
  {
   "cell_type": "markdown",
   "id": "ca6962ff-f138-4729-9b80-8d391651032e",
   "metadata": {},
   "source": [
    "----"
   ]
  },
  {
   "cell_type": "code",
   "execution_count": null,
   "id": "4e22edb5-82df-4678-b65d-6fd25c6cdc51",
   "metadata": {},
   "outputs": [],
   "source": [
    "sum_groups.sort()"
   ]
  },
  {
   "cell_type": "code",
   "execution_count": null,
   "id": "4fdf03ab-b3be-4871-bcf2-0f21ec7e3d6b",
   "metadata": {},
   "outputs": [],
   "source": [
    "sum_groups[-3:]"
   ]
  },
  {
   "cell_type": "markdown",
   "id": "5e212c35-2799-4f18-8bf1-98cfe6d5d6ba",
   "metadata": {},
   "source": [
    "# Answer, part 2"
   ]
  },
  {
   "cell_type": "code",
   "execution_count": null,
   "id": "0a6c0afe-c79d-4798-8726-8b6811555bbb",
   "metadata": {},
   "outputs": [],
   "source": [
    "sum(sum_groups[-3:])"
   ]
  }
 ],
 "metadata": {
  "kernelspec": {
   "display_name": "Python 3 (ipykernel)",
   "language": "python",
   "name": "python3"
  },
  "language_info": {
   "codemirror_mode": {
    "name": "ipython",
    "version": 3
   },
   "file_extension": ".py",
   "mimetype": "text/x-python",
   "name": "python",
   "nbconvert_exporter": "python",
   "pygments_lexer": "ipython3",
   "version": "3.10.8"
  }
 },
 "nbformat": 4,
 "nbformat_minor": 5
}
