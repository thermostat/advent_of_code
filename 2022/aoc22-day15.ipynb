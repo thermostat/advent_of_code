{
 "cells": [
  {
   "cell_type": "markdown",
   "id": "22724eff-f786-4fd8-9d07-fccdcb6e9947",
   "metadata": {
    "tags": []
   },
   "source": [
    "\n",
    "# Day 15 AoC\n",
    "\n",
    "🕎 [Day 15 description](https://adventofcode.com/2022/day/15) 🕎\n"
   ]
  },
  {
   "cell_type": "markdown",
   "id": "c6537f20-4a84-4d2a-9d1d-9d845ec26eff",
   "metadata": {
    "tags": []
   },
   "source": [
    "## Setup"
   ]
  },
  {
   "cell_type": "code",
   "execution_count": null,
   "id": "e5b29761-24fc-4d7b-9634-0be054a1aa5d",
   "metadata": {
    "tags": []
   },
   "outputs": [],
   "source": [
    "# imports\n",
    "import os, re, sys, IPython, itertools, operator, functools, datetime, heapq\n",
    "\n",
    "starttime = datetime.datetime.now()"
   ]
  },
  {
   "cell_type": "code",
   "execution_count": null,
   "id": "e9b7dd74-d2e2-42a6-a11c-4493798f96bb",
   "metadata": {
    "tags": []
   },
   "outputs": [],
   "source": [
    "# common helper, data import\n",
    "def ans(val):\n",
    "    return IPython.display.Markdown(\"**Answer: {}**\".format(val))\n",
    "\n",
    "data_fd = open('inputs/input-aoc-22-15.txt', 'r')\n",
    "data = data_fd.read().strip().split('\\n')"
   ]
  },
  {
   "cell_type": "code",
   "execution_count": null,
   "id": "6cb7d635-7a04-49f5-8116-3a5ba85ed6f3",
   "metadata": {},
   "outputs": [],
   "source": [
    "data[0]"
   ]
  },
  {
   "cell_type": "code",
   "execution_count": null,
   "id": "b7d4e916-4a04-4729-ab4d-8afc021ec2f9",
   "metadata": {},
   "outputs": [],
   "source": [
    "def make_sbpairs(data):\n",
    "    sbpairs = []\n",
    "    xyre = re.compile(r'x=(-?\\d+), y=(-?\\d+)')\n",
    "    for line in data:\n",
    "        sstr, bstr = line.split(\":\")\n",
    "        smatch = xyre.search(sstr).groups()\n",
    "        scoord = (int(smatch[0]), int(smatch[1]))\n",
    "        bmatch = xyre.search(bstr).groups()\n",
    "        bcoord = (int(bmatch[0]), int(bmatch[1]))\n",
    "        sbpairs.append((scoord, bcoord))\n",
    "    return sbpairs\n",
    "\n",
    "sbpairs = make_sbpairs(data)\n",
    "              "
   ]
  },
  {
   "cell_type": "markdown",
   "id": "7d104fb7-a1cc-48b5-a0a0-1294323dbe39",
   "metadata": {},
   "source": [
    "## Part 1"
   ]
  },
  {
   "cell_type": "code",
   "execution_count": null,
   "id": "a1d91e73-812c-4230-9ee3-0885d670090c",
   "metadata": {},
   "outputs": [],
   "source": [
    "def coverage_at_line(sbpair, lineno):\n",
    "    sensor, beacon = sbpair\n",
    "    dis = distance(sbpair)\n",
    "    ydist = abs(sensor[1] - lineno)\n",
    "    if ydist > dis:\n",
    "        return None\n",
    "    elif ydist == dis:\n",
    "        return [sensor[0]]\n",
    "    else:\n",
    "        extra = dis - ydist\n",
    "        return list(range(sensor[0]-extra,sensor[0]+extra+1))\n",
    "    \n",
    "    \n",
    "def distance(sbpair):\n",
    "    sensor, beacon = sbpair\n",
    "    return abs(sensor[0]-beacon[0]) + abs(sensor[1]-beacon[1])\n"
   ]
  },
  {
   "cell_type": "code",
   "execution_count": null,
   "id": "acddcd45-7cbe-458e-a74f-463da31de081",
   "metadata": {},
   "outputs": [],
   "source": [
    "def calc_beacon_ex(sbpairs, lineno):\n",
    "    beacon_exclusion = set()\n",
    "    existing_beacons = set([sbpair[1][0] for sbpair in sbpairs if sbpair[1][1] ==lineno])\n",
    "    for sbpair in sbpairs:\n",
    "        coverage = coverage_at_line(sbpair, lineno)\n",
    "        if coverage:\n",
    "            coverage = [ x for x in coverage if x not in existing_beacons ]\n",
    "            beacon_exclusion.update(coverage)\n",
    "    return beacon_exclusion\n",
    "\n",
    "beacon_exclusion = calc_beacon_ex(sbpairs, 2000000)\n",
    "ans(len(beacon_exclusion))"
   ]
  },
  {
   "cell_type": "markdown",
   "id": "25164015-0392-4e52-b9e9-8b445028e8f7",
   "metadata": {
    "tags": []
   },
   "source": [
    "## Part 2"
   ]
  },
  {
   "cell_type": "code",
   "execution_count": null,
   "id": "5f5e38e3-a480-47d1-b4c4-1a9eb58bb4b2",
   "metadata": {},
   "outputs": [],
   "source": [
    "def calc_signal_radius(sbpair):\n",
    "    # returns (sensorx, sensory, r)\n",
    "    sensor, beacon = sbpair\n",
    "    return (sensor[0], sensor[1], distance(sbpair))"
   ]
  },
  {
   "cell_type": "code",
   "execution_count": null,
   "id": "320b7859-d8bc-4b20-9a2e-602943161260",
   "metadata": {},
   "outputs": [],
   "source": [
    "sigrad = [ calc_signal_radius(x) for x in sbpairs ]"
   ]
  },
  {
   "cell_type": "code",
   "execution_count": null,
   "id": "dc64bd96-9013-4ae2-b49a-f839d226bde4",
   "metadata": {},
   "outputs": [],
   "source": [
    "def inrad(pt, sigrad):\n",
    "    sen = sigrad[0],sigrad[1]\n",
    "    dis = distance((sen, pt))\n",
    "    if dis <= sigrad[2]:\n",
    "        extra = sigrad[2]-dis\n",
    "        return True, extra\n",
    "    return False, 0"
   ]
  },
  {
   "cell_type": "code",
   "execution_count": null,
   "id": "23c14b84-7963-4ba8-b984-4e44f4cc98b7",
   "metadata": {},
   "outputs": [],
   "source": [
    "def check_range(minrange, maxrange, sigrad):\n",
    "    \"\"\"\n",
    "    Walk through each x,y pair, jump ahead a known safe\n",
    "    amount if in the middle of a range.\n",
    "    \"\"\"\n",
    "    x = minrange\n",
    "    y = minrange\n",
    "    while x < maxrange:\n",
    "        if x%1000000 == 0: print(\"x:{}\".format(x))\n",
    "        y = minrange\n",
    "        while y < maxrange:\n",
    "            coverage_found = False\n",
    "            maxextra = 0\n",
    "            for sr in sigrad:\n",
    "                ir, extra = inrad((x,y), sr)\n",
    "                if ir:\n",
    "                    coverage_found = True\n",
    "                    if extra > maxextra:\n",
    "                        maxextra = extra\n",
    "            if not coverage_found:\n",
    "                v = x*4000000 + y\n",
    "                print(v)\n",
    "                return v\n",
    "            else:\n",
    "                y+=max(maxextra,1)\n",
    "        x+=1\n",
    "\n",
    "def coverage_range(xline, sigrad, ymin,ymax):\n",
    "    \"\"\"\n",
    "    Assume we're going to cover the ymin, ymax range in most cases, go through\n",
    "    the work of creating an actual list-of-ranges.\n",
    "    \"\"\"\n",
    "    ranges = []\n",
    "    for si in sigrad:\n",
    "        xdis = abs(si[0] - xline)\n",
    "        if si[2] > xdis:\n",
    "            extra = si[2] - xdis\n",
    "            ranges.append((si[1]-extra, si[1]+extra))\n",
    "        elif si[2] == xdis:\n",
    "            ranges.append((si[1],si[1]))\n",
    "    ranges.sort(reverse=True)\n",
    "    merged_ranges = [ranges.pop()]  \n",
    "    while len(ranges) > 0:\n",
    "        range = ranges.pop()\n",
    "        toprange = merged_ranges[-1]\n",
    "        if range[0] <= toprange[1] and range[1] > toprange[1]:\n",
    "            merged_ranges[-1] = (toprange[0],range[1])\n",
    "        elif range[0] < toprange[0]:\n",
    "            print(\"bad assumption\")\n",
    "        elif range[0] > toprange[1]:\n",
    "            merged_ranges.append(range)\n",
    "    for mr in merged_ranges:\n",
    "        if mr[0] <= ymin and mr[1] >= ymax:\n",
    "            return True, mr\n",
    "    return False, merged_ranges\n",
    "                \n",
    "def check_range2(minrange, maxrange, sigrad):\n",
    "    \"\"\"\n",
    "    Walk through the xrange looking for a line that isn't covered. When you find it assume\n",
    "    that it is a two-item set of ranges and the solution is item[0][1]+1. This breaks if, say,\n",
    "    there is a small range way outside the search area with no overlap.\n",
    "    \"\"\"\n",
    "    for x in range(minrange, maxrange):\n",
    "        covered, mr = coverage_range(x, sigrad, minrange, maxrange)\n",
    "        if not covered:\n",
    "            print(\"Hole in line {}\".format(x))\n",
    "            print(mr)\n",
    "            y = mr[0][1]+1\n",
    "            v = (x*4000000) + y\n",
    "            return v"
   ]
  },
  {
   "cell_type": "code",
   "execution_count": null,
   "id": "2105ddd1-94c7-4fd9-bd08-8d4288af78a4",
   "metadata": {
    "tags": []
   },
   "outputs": [],
   "source": [
    "v = check_range2(0, 4000001, sigrad)\n",
    "ans(v)"
   ]
  },
  {
   "cell_type": "code",
   "execution_count": null,
   "id": "bb9c93cb-dd56-4468-a32a-0017a8acabcd",
   "metadata": {
    "tags": []
   },
   "outputs": [],
   "source": [
    "#v = check_range(0, 4000001, sigrad)\n",
    "#ans(v)"
   ]
  },
  {
   "cell_type": "code",
   "execution_count": null,
   "id": "ee16a7ed-34cd-474e-ae37-ce12803a43b7",
   "metadata": {},
   "outputs": [],
   "source": [
    "endtime = datetime.datetime.now()\n",
    "\n",
    "print(endtime - starttime)"
   ]
  },
  {
   "cell_type": "markdown",
   "id": "09144659-a465-42a3-925f-cb54912b4e50",
   "metadata": {},
   "source": [
    "## Notes\n"
   ]
  },
  {
   "cell_type": "markdown",
   "id": "caeda8f8-d6bb-4411-8034-476a930c8ed1",
   "metadata": {},
   "source": [
    "Naive solution takes about 6 minutes (`check_range`), revision that actually calculates ranges, ~20 seconds (`check_range2`)."
   ]
  },
  {
   "cell_type": "markdown",
   "id": "d8947d1f-d571-44f9-90e6-8932ded29937",
   "metadata": {
    "tags": []
   },
   "source": [
    "## Bugs\n",
    "\n"
   ]
  },
  {
   "cell_type": "markdown",
   "id": "a1b77bd3-836a-4e80-83fb-f13929b6e528",
   "metadata": {},
   "source": [
    "1. Did not exclude beacons that existed in the count\n",
    "2. was not returning the right set when calculating exclusion"
   ]
  },
  {
   "cell_type": "code",
   "execution_count": null,
   "id": "64f89309-7cce-4156-bfc1-6d0ae153e68e",
   "metadata": {},
   "outputs": [],
   "source": [
    "testinp=\"\"\"Sensor at x=2, y=18: closest beacon is at x=-2, y=15\n",
    "Sensor at x=9, y=16: closest beacon is at x=10, y=16\n",
    "Sensor at x=13, y=2: closest beacon is at x=15, y=3\n",
    "Sensor at x=12, y=14: closest beacon is at x=10, y=16\n",
    "Sensor at x=10, y=20: closest beacon is at x=10, y=16\n",
    "Sensor at x=14, y=17: closest beacon is at x=10, y=16\n",
    "Sensor at x=8, y=7: closest beacon is at x=2, y=10\n",
    "Sensor at x=2, y=0: closest beacon is at x=2, y=10\n",
    "Sensor at x=0, y=11: closest beacon is at x=2, y=10\n",
    "Sensor at x=20, y=14: closest beacon is at x=25, y=17\n",
    "Sensor at x=17, y=20: closest beacon is at x=21, y=22\n",
    "Sensor at x=16, y=7: closest beacon is at x=15, y=3\n",
    "Sensor at x=14, y=3: closest beacon is at x=15, y=3\n",
    "Sensor at x=20, y=1: closest beacon is at x=15, y=3\"\"\"\n",
    "\n",
    "testpairs = make_sbpairs(testinp.split('\\n'))"
   ]
  },
  {
   "cell_type": "code",
   "execution_count": null,
   "id": "38f7c0a7-2583-4d8d-bc13-bb113c170880",
   "metadata": {},
   "outputs": [],
   "source": [
    "len(calc_beacon_ex(testpairs, 10))"
   ]
  },
  {
   "cell_type": "code",
   "execution_count": null,
   "id": "6af3b115-208d-46f2-9390-17a5af5656ed",
   "metadata": {},
   "outputs": [],
   "source": []
  }
 ],
 "metadata": {
  "kernelspec": {
   "display_name": "Python 3 (ipykernel)",
   "language": "python",
   "name": "python3"
  },
  "language_info": {
   "codemirror_mode": {
    "name": "ipython",
    "version": 3
   },
   "file_extension": ".py",
   "mimetype": "text/x-python",
   "name": "python",
   "nbconvert_exporter": "python",
   "pygments_lexer": "ipython3",
   "version": "3.10.8"
  }
 },
 "nbformat": 4,
 "nbformat_minor": 5
}
