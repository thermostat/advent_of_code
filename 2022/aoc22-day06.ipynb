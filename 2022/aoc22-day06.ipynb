{
 "cells": [
  {
   "cell_type": "markdown",
   "id": "22724eff-f786-4fd8-9d07-fccdcb6e9947",
   "metadata": {
    "tags": []
   },
   "source": [
    "![menorah on mantle](media/menorah_banner.JPG)\n",
    "\n",
    "# Day 6 AoC\n",
    "\n",
    "🕎 [Day 6 description](https://adventofcode.com/2022/day/6) 🕎\n"
   ]
  },
  {
   "cell_type": "markdown",
   "id": "c6537f20-4a84-4d2a-9d1d-9d845ec26eff",
   "metadata": {
    "tags": []
   },
   "source": [
    "## Setup"
   ]
  },
  {
   "cell_type": "code",
   "execution_count": null,
   "id": "e5b29761-24fc-4d7b-9634-0be054a1aa5d",
   "metadata": {
    "tags": []
   },
   "outputs": [],
   "source": [
    "# imports\n",
    "import os, re, sys, IPython, itertools"
   ]
  },
  {
   "cell_type": "code",
   "execution_count": null,
   "id": "e9b7dd74-d2e2-42a6-a11c-4493798f96bb",
   "metadata": {
    "tags": []
   },
   "outputs": [],
   "source": [
    "# common helper, data import\n",
    "def ans(val):\n",
    "    return IPython.display.Markdown(\"**Answer: {}**\".format(val))\n",
    "\n",
    "data_fd = open('inputs/input-aoc-22-06.txt', 'r')\n",
    "data = data_fd.read()"
   ]
  },
  {
   "cell_type": "markdown",
   "id": "98b64823-df37-4079-a7d9-eb956bafeb40",
   "metadata": {
    "tags": []
   },
   "source": [
    "## Part 1"
   ]
  },
  {
   "cell_type": "code",
   "execution_count": null,
   "id": "4bca1d23-27f9-43de-b9a3-5037c6ea881a",
   "metadata": {},
   "outputs": [],
   "source": [
    "v = None\n",
    "for i in range(4, len(data)):\n",
    "    if len(set(data[i-4:i])) == 4:\n",
    "        v = i\n",
    "        break\n",
    "        "
   ]
  },
  {
   "cell_type": "code",
   "execution_count": null,
   "id": "b5c2dc9e-d647-4aa9-9a46-1fca0344a4be",
   "metadata": {},
   "outputs": [],
   "source": [
    "ans(v)"
   ]
  },
  {
   "cell_type": "code",
   "execution_count": null,
   "id": "1d08b00a-c3b6-48df-8865-d63c012914c2",
   "metadata": {},
   "outputs": [],
   "source": [
    "len(data)"
   ]
  },
  {
   "cell_type": "markdown",
   "id": "25164015-0392-4e52-b9e9-8b445028e8f7",
   "metadata": {
    "tags": []
   },
   "source": [
    "## Part 2"
   ]
  },
  {
   "cell_type": "code",
   "execution_count": null,
   "id": "4cc4ffec-3d45-46ef-811c-017875e51b97",
   "metadata": {},
   "outputs": [],
   "source": [
    "v2 = None\n",
    "for i in range(14, len(data)):\n",
    "    if  len(set(data[i-14:i])) == 14:\n",
    "        v = i\n",
    "        break"
   ]
  },
  {
   "cell_type": "code",
   "execution_count": null,
   "id": "5a67a1ae-58fe-46e4-81fd-ade122712283",
   "metadata": {},
   "outputs": [],
   "source": [
    "ans(v)"
   ]
  },
  {
   "cell_type": "markdown",
   "id": "8c652e73-0b91-43e5-ac40-1db18566340e",
   "metadata": {},
   "source": [
    "## Notes\n",
    "\n",
    "Could generalize futher into a function that takes the length of unique characters as a param, but doesn't really seem worth it\n",
    "\n",
    "## Bug log\n",
    "\n",
    "* initially forgot to check for equality in the if statement, resulting in immediately finding an \"answer\" "
   ]
  },
  {
   "cell_type": "code",
   "execution_count": null,
   "id": "78d3c0e6-e1d0-44a2-91fb-0ebe27d9c149",
   "metadata": {},
   "outputs": [],
   "source": []
  }
 ],
 "metadata": {
  "kernelspec": {
   "display_name": "Python 3 (ipykernel)",
   "language": "python",
   "name": "python3"
  },
  "language_info": {
   "codemirror_mode": {
    "name": "ipython",
    "version": 3
   },
   "file_extension": ".py",
   "mimetype": "text/x-python",
   "name": "python",
   "nbconvert_exporter": "python",
   "pygments_lexer": "ipython3",
   "version": "3.10.8"
  }
 },
 "nbformat": 4,
 "nbformat_minor": 5
}
