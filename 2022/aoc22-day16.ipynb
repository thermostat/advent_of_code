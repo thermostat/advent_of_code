{
 "cells": [
  {
   "cell_type": "markdown",
   "id": "22724eff-f786-4fd8-9d07-fccdcb6e9947",
   "metadata": {
    "tags": []
   },
   "source": [
    "\n",
    "# Day 16 AoC\n",
    "\n",
    "🕎 [Day 16 description](https://adventofcode.com/2022/day/16) 🕎\n"
   ]
  },
  {
   "cell_type": "markdown",
   "id": "c6537f20-4a84-4d2a-9d1d-9d845ec26eff",
   "metadata": {
    "tags": []
   },
   "source": [
    "## Setup"
   ]
  },
  {
   "cell_type": "code",
   "execution_count": 1,
   "id": "e5b29761-24fc-4d7b-9634-0be054a1aa5d",
   "metadata": {
    "tags": []
   },
   "outputs": [],
   "source": [
    "# imports\n",
    "import os, re, sys, IPython, itertools, operator, functools, datetime, heapq, random\n",
    "\n",
    "starttime = datetime.datetime.now()"
   ]
  },
  {
   "cell_type": "code",
   "execution_count": 2,
   "id": "e9b7dd74-d2e2-42a6-a11c-4493798f96bb",
   "metadata": {
    "tags": []
   },
   "outputs": [],
   "source": [
    "# common helper, data import\n",
    "def ans(val):\n",
    "    return IPython.display.Markdown(\"**Answer: {}**\".format(val))\n",
    "\n",
    "data_fd = open('inputs/input-aoc-22-16.txt', 'r')\n",
    "data = data_fd.read().strip().split('\\n')"
   ]
  },
  {
   "cell_type": "code",
   "execution_count": 78,
   "id": "6cb7d635-7a04-49f5-8116-3a5ba85ed6f3",
   "metadata": {},
   "outputs": [],
   "source": [
    "NODE_RE = re.compile(r'Valve ([A-Z]{2}) has flow rate=(\\d+); tunnels? leads? to valves? (.*)')\n",
    "\n",
    "def parse_node(line):\n",
    "    m = NODE_RE.search(line)\n",
    "    if m == None:\n",
    "        print(\"Bad node: {}\".format(line))\n",
    "        return\n",
    "    g = m.groups()\n",
    "    return AOCNode(g[0], g[2], g[1])\n",
    "\n",
    "class AOCNode(object):\n",
    "    def __init__(self, name, linkstr, frate):\n",
    "        self.name = name\n",
    "        self._link_names = [x.strip() for x in linkstr.split(',')]\n",
    "        self._linkstr = linkstr\n",
    "        self._links = []\n",
    "        self._frate = int(frate)\n",
    "        \n",
    "    def __repr__(self):\n",
    "        return self.name\n",
    "    \n",
    "    def __str__(self):\n",
    "        return \"{} ({}) -> {}\".format(self.name, self._frate, \"|\".join(self._link_names))\n",
    "\n",
    "    def update_links(self, name_map):\n",
    "        for lname in self._link_names:\n",
    "            self._links.append(name_map[lname])\n",
    "    \n",
    "    def flow_rate(self):\n",
    "        return self._frate\n",
    "    \n",
    "    def linked_nodes(self):\n",
    "        return iter(self._links)\n",
    "    \n",
    "    def __lt__(self, other):\n",
    "        return self.name < other.name\n",
    "    def __eq__(self, other):\n",
    "        return self.name == other.name\n",
    "    def __hash__(self):\n",
    "        return hash(self.name)\n",
    "\n",
    "def find_path_bfs(srcnode, tgtnode):\n",
    "    found = set()\n",
    "    path = []\n",
    "    work_list = []\n",
    "    for node in srcnode.linked_nodes():\n",
    "        work_list.append((node,path[:]))\n",
    "    while len(work_list) > 0:\n",
    "        node, path = work_list.pop()\n",
    "        path.append(node)\n",
    "        if node == tgtnode:\n",
    "            return path\n",
    "        new_work = []\n",
    "        for cnode in node.linked_nodes():\n",
    "            if cnode not in found:\n",
    "                new_work.append((cnode, path[:]))\n",
    "                found.add(cnode)\n",
    "        new_work.extend(work_list)\n",
    "        work_list = new_work\n",
    "    \n",
    "class AOCVMap(object):\n",
    "    def __init__(self, data):\n",
    "        self._nodes = [ parse_node(l) for l in data ]\n",
    "        self._name_map = {}\n",
    "        for n in self._nodes:\n",
    "            self._name_map[n.name] = n\n",
    "        for node in self._nodes:\n",
    "            node.update_links(self._name_map)\n",
    "        self._start_node = self.find_node('AA')\n",
    "        self._path_cache = {}\n",
    "        \n",
    "    def find_path(self, srcnode, tgtnode):\n",
    "        if (srcnode, tgtnode) in self._path_cache:\n",
    "            return self._path_cache[srcnode,tgtnode]\n",
    "        p = find_path_bfs(srcnode, tgtnode)\n",
    "        self._path_cache[srcnode,tgtnode] = p\n",
    "        return p\n",
    "            \n",
    "    def find_node(self, name):\n",
    "        return self._name_map[name]\n",
    "    \n",
    "    def start_node(self):\n",
    "        return self._start_node\n",
    "    def node_count(self):\n",
    "        return len(self._nodes)\n",
    "    \n",
    "    def all_nodes(self):\n",
    "        return iter(self._nodes)\n",
    "    \n",
    "class VolcanoPath(object):\n",
    "    def __init__(self, map, starttime=30, log=True):\n",
    "        self._map = map\n",
    "        self.path = []\n",
    "        self.action_list = []\n",
    "        self.minutes = starttime\n",
    "        self.pressure_release = 0\n",
    "        self.total_release = 0\n",
    "        self.released_nodes = set()\n",
    "        self._log = log\n",
    "        self._good_nodes = set([x for x in self._map.all_nodes() if x.flow_rate() > 0])\n",
    "        \n",
    "    def run(self):\n",
    "        self.path.append(self._map.start_node())\n",
    "        while self.minutes > 0:\n",
    "            self.total_release += self.pressure_release\n",
    "            self.minutes -= 1\n",
    "            self.log_minute_start()\n",
    "            act = self.choose_action()\n",
    "            self.action_list.append(act)\n",
    "            act.execute(self)\n",
    "            self.log_minute_end()\n",
    "        self.log_zero_minute()\n",
    "\n",
    "    def current_node(self):\n",
    "        return self.path[-1]\n",
    "    \n",
    "    def minutes_remaining(self):\n",
    "        return self.minutes\n",
    "    \n",
    "    def good_nodes(self):\n",
    "        # nodes that haven't been released and have flow > 0\n",
    "        return self._good_nodes\n",
    "        \n",
    "    def release(self, node):\n",
    "        assert node == self.path[-1], \"Trying to release {} at {}\".format(node, self.path[-1])\n",
    "        assert node not in self.released_nodes, \"Trying to re-release {}\".format(node)\n",
    "        self.pressure_release += node.flow_rate()\n",
    "        self.released_nodes.add(node)\n",
    "        self._good_nodes.remove(node)\n",
    "        \n",
    "    def move_to(self, node):\n",
    "        assert node in self.path[-1]._links, \"Bad move {} -> {}\".format(self.path[-1], node)\n",
    "        self.path.append(node)\n",
    "    \n",
    "    def choose_action(self):\n",
    "        # Do nothing!\n",
    "        return Action(\"NOOP\", None)\n",
    "    \n",
    "    def log_minute_start(self):\n",
    "        if not self._log:\n",
    "            return\n",
    "        display_minute = 30 - self.minutes\n",
    "        \n",
    "        print(\"== Minute {} ==\".format(display_minute))\n",
    "        \n",
    "        if len(self.released_nodes) == 0:\n",
    "            print(\"No Valves are open\", end='')\n",
    "        elif len(self.released_nodes) == 1:\n",
    "            print(\"Valve {} is open\".format(list(self.released_nodes)[0].name), end='')\n",
    "        elif len(self.released_nodes) == 2:\n",
    "            l = list(self.released_nodes)\n",
    "            l.sort()\n",
    "            print(\"Values {} and {} are open\".format( l[0].name, l[1].name ), end='')\n",
    "        else:\n",
    "            l = list(self.released_nodes)\n",
    "            l.sort()\n",
    "            laststr = l.pop().name\n",
    "            firststr = \", \".join([ n.name for n in l ]) \n",
    "            print(\"Valves {} and {} are open\".format( firststr, laststr), end='')\n",
    "        if self.pressure_release==0:\n",
    "            print('.')\n",
    "        else:\n",
    "            print(', releasing {} pressure'.format(self.pressure_release))\n",
    "            \n",
    "    def log_minute_end(self):\n",
    "        if not self._log:\n",
    "            return        \n",
    "        print(self.action_list[-1].log())\n",
    "        \n",
    "    def log_zero_minute(self):\n",
    "        if not self._log:\n",
    "            return\n",
    "        print(\"You released a total of {} pressure.\".format(self.total_release))\n",
    "\n",
    "class ReplayPath(VolcanoPath):\n",
    "    def __init__(self, map, replay):\n",
    "        super().__init__(map)\n",
    "        self._replay = replay[::-1]\n",
    "        \n",
    "    def choose_action(self):\n",
    "        if len(self._replay):\n",
    "            return self._replay.pop()\n",
    "        else:\n",
    "            return Action('NOOP', None)\n",
    "    \n",
    "class Action(object):\n",
    "    def __init__(self, actionstr, tgt):\n",
    "        self.actionstr = actionstr\n",
    "        self.tgt = tgt\n",
    "\n",
    "    def execute(self, path):\n",
    "        if self.actionstr == 'MOVE':\n",
    "            self._do_move(path)\n",
    "        elif self.actionstr=='RELEASE':\n",
    "            self._do_release(path)\n",
    "            \n",
    "    def _do_move(self, path):\n",
    "        path.move_to(self.tgt)\n",
    "        \n",
    "    def _do_release(self, path):\n",
    "        path.release(self.tgt)\n",
    "        \n",
    "    def log(self):\n",
    "        if self.actionstr == \"MOVE\":\n",
    "            return \"You move to {}\".format(self.tgt.name)\n",
    "        elif self.actionstr == \"RELEASE\":\n",
    "            return \"You open valve {}\".format(self.tgt.name)\n",
    "        elif self.actionstr == \"NOOP\":\n",
    "            return \"You do nothing.\"\n",
    "        else:\n",
    "            return \"You don't know what you're doing. What is going on?\""
   ]
  },
  {
   "cell_type": "code",
   "execution_count": 41,
   "id": "b7d4e916-4a04-4729-ab4d-8afc021ec2f9",
   "metadata": {},
   "outputs": [],
   "source": [
    "vmap = AOCVMap(data)\n",
    "\n"
   ]
  },
  {
   "cell_type": "code",
   "execution_count": 5,
   "id": "63511e93-d197-4607-971d-1ce96dad3e6b",
   "metadata": {},
   "outputs": [
    {
     "data": {
      "text/plain": [
       "15"
      ]
     },
     "execution_count": 5,
     "metadata": {},
     "output_type": "execute_result"
    }
   ],
   "source": [
    "len( [ x for x in vmap.all_nodes() if x.flow_rate() > 0 ])"
   ]
  },
  {
   "cell_type": "markdown",
   "id": "7d104fb7-a1cc-48b5-a0a0-1294323dbe39",
   "metadata": {},
   "source": [
    "## Part 1"
   ]
  },
  {
   "cell_type": "code",
   "execution_count": 46,
   "id": "9a2e3050-37ce-47b8-9789-54694a952a06",
   "metadata": {},
   "outputs": [],
   "source": [
    "class BasicPath(VolcanoPath):\n",
    "    def __init__(self, map):\n",
    "        super().__init__(map)\n",
    "        self._action_cache = []\n",
    "        self._path_cache = {}\n",
    "    \n",
    "    def choose_action(self):\n",
    "        if len(self._action_cache) == 0:\n",
    "            self._next_action()\n",
    "        if len(self._action_cache) > 0:\n",
    "            return self._action_cache.pop()\n",
    "        else:\n",
    "            return Action('NOOP', None)\n",
    "        \n",
    "    def _goto_node_and_release(self, target):\n",
    "        path_to_target = self._map.find_path(self.current_node(), target)\n",
    "        self._action_cache = [ Action('MOVE', t) for t in path_to_target ]\n",
    "        self._action_cache.append(Action('RELEASE', target))\n",
    "        self._action_cache = self._action_cache[::-1]\n",
    "        \n",
    "        \n",
    "class GreedyPath(BasicPath):\n",
    "    \n",
    "    def _calc_gain(self):\n",
    "        all_gains = []\n",
    "        for node in self.good_nodes():\n",
    "            distance = len(self._map.find_path(self.current_node(), node))\n",
    "            gain = node.flow_rate() * (self.minutes_remaining() - distance)\n",
    "            all_gains.append((gain, node))\n",
    "        all_gains.sort(key=lambda x: x[0])\n",
    "        return all_gains\n",
    "    \n",
    "    def _next_action(self):\n",
    "        nodes = self._calc_gain()\n",
    "        if len(nodes) == 0:\n",
    "            # nothing more to find!\n",
    "            return\n",
    "        gain,target = nodes.pop()\n",
    "        self._goto_node_and_release(target)"
   ]
  },
  {
   "cell_type": "code",
   "execution_count": 71,
   "id": "4d3db582-e49e-4e6b-a640-4376a5fcb171",
   "metadata": {},
   "outputs": [],
   "source": [
    "class ExplicitPath(BasicPath):\n",
    "    def __init__(self, map, pathchooser):\n",
    "        super().__init__(map)\n",
    "        self._chooser = pathchooser\n",
    "        if hasattr(self._chooser, 'set_path'):\n",
    "            self._chooser.set_path(self)\n",
    "        \n",
    "        \n",
    "    def _next_action(self):\n",
    "        try:\n",
    "            target = next(self._chooser)\n",
    "            self._goto_node_and_release(target)\n",
    "        except StopIteration:\n",
    "            self._action_cache = [ Action('NOOP', None) ]\n"
   ]
  },
  {
   "cell_type": "code",
   "execution_count": 73,
   "id": "6a3ab5a9-e8cd-4f03-853f-6ef8a6378e03",
   "metadata": {},
   "outputs": [],
   "source": [
    "class PathChooser(object):\n",
    "    def __init__(self):\n",
    "        self._path = None\n",
    "        \n",
    "    def set_path(self, path):\n",
    "        self._path = path\n",
    "        \n",
    "    def __next__(self):\n",
    "        return self._calc_gain()\n",
    "    \n",
    "    def _calc_gain(self):\n",
    "        all_gains = []\n",
    "        gn = list(self._path.good_nodes())\n",
    "        for node in gn:\n",
    "            distance = len(self._path._map.find_path(self._path.current_node(), node))\n",
    "            gain = node.flow_rate() * max((self._path.minutes_remaining() - distance),1)\n",
    "            all_gains.append(gain)\n",
    "        return random.choices(gn, weights=all_gains)[0]\n"
   ]
  },
  {
   "cell_type": "code",
   "execution_count": 57,
   "id": "feea844d-5eff-4b93-890f-d2c7dc1e57e5",
   "metadata": {
    "collapsed": true,
    "jupyter": {
     "outputs_hidden": true
    },
    "tags": []
   },
   "outputs": [
    {
     "ename": "NameError",
     "evalue": "name 'self' is not defined",
     "output_type": "error",
     "traceback": [
      "\u001b[0;31m---------------------------------------------------------------------------\u001b[0m",
      "\u001b[0;31mNameError\u001b[0m                                 Traceback (most recent call last)",
      "Cell \u001b[0;32mIn [57], line 1\u001b[0m\n\u001b[0;32m----> 1\u001b[0m nodes \u001b[38;5;241m=\u001b[39m \u001b[38;5;28;43mself\u001b[39;49m\u001b[38;5;241m.\u001b[39m_good_nodes[:]\n\u001b[1;32m      2\u001b[0m random\u001b[38;5;241m.\u001b[39mshuffle(nodes)\n\u001b[1;32m      3\u001b[0m i \u001b[38;5;241m=\u001b[39m random\u001b[38;5;241m.\u001b[39mrandint(\u001b[38;5;241m1\u001b[39m,\u001b[38;5;28mlen\u001b[39m(nodes)\u001b[38;5;241m-\u001b[39m\u001b[38;5;241m1\u001b[39m)\n",
      "\u001b[0;31mNameError\u001b[0m: name 'self' is not defined"
     ]
    }
   ],
   "source": [
    "        nodes = self._good_nodes[:]\n",
    "        random.shuffle(nodes)\n",
    "        i = random.randint(1,len(nodes)-1)\n",
    "        start = nodes[:i]\n",
    "        end = nodes[i:]\n",
    "        end.sort(key=lambda x:x.flow_rate())\n",
    "        start.extend(end)\n",
    "        nodes = start"
   ]
  },
  {
   "cell_type": "code",
   "execution_count": 77,
   "id": "1625a6bb-651d-471e-9aa8-17ebc1d266d0",
   "metadata": {},
   "outputs": [],
   "source": [
    "class PathGenerator(object):\n",
    "    def __init__(self, map, starttime=30):\n",
    "        self._map = map\n",
    "        self.best_path = None\n",
    "        self.runtime = None\n",
    "        self.path_count = 0\n",
    "        self._good_nodes = [x for x in self._map.all_nodes() if x.flow_rate() > 0]\n",
    "        self._starttime = starttime\n",
    "        \n",
    "    def generate(self):\n",
    "\n",
    "        return ExplicitPath(self._map, PathChooser())\n",
    "    \n",
    "    def search_ipy(self, limit=None, update_seconds=10):\n",
    "        starttime = datetime.datetime.now()\n",
    "        last_update = starttime\n",
    "        while limit == None or self.path_count < limit:\n",
    "            new_path = self.generate()\n",
    "            new_path._log  = False\n",
    "            new_path._minutes = self._starttime\n",
    "            new_path.run()\n",
    "            \n",
    "            if self.best_path == None:\n",
    "                self.best_path = new_path\n",
    "            elif new_path.total_release > self.best_path.total_release:\n",
    "                self.best_path = new_path\n",
    "            self.path_count += 1\n",
    "            curtime = datetime.datetime.now()\n",
    "            if last_update + datetime.timedelta(seconds=update_seconds) < curtime:\n",
    "                last_update = curtime\n",
    "                self.update_ipy(starttime, curtime)\n",
    "    def update_ipy(self, starttime, curtime):\n",
    "        IPython.display.clear_output(wait=True)\n",
    "        runtime = curtime - starttime\n",
    "        print(\"Runtime: {} | Found {} solutions | Best total pressure release {}\".format(str(runtime), self.path_count, \n",
    "                                                                                         self.best_path.total_release))\n",
    "        print(\"Processing at {} solutions per second\".format(round(self.path_count/runtime.total_seconds())))"
   ]
  },
  {
   "cell_type": "code",
   "execution_count": 76,
   "id": "d3d5bb38-bcd8-4acd-a099-3e5aaf075f08",
   "metadata": {
    "tags": []
   },
   "outputs": [
    {
     "name": "stdout",
     "output_type": "stream",
     "text": [
      "Runtime: 0:16:20.013478 | Found 6678371 solutions | Best total pressure release 2330\n",
      "Processing at 6815 solutions per second\n"
     ]
    },
    {
     "ename": "KeyboardInterrupt",
     "evalue": "",
     "output_type": "error",
     "traceback": [
      "\u001b[0;31m---------------------------------------------------------------------------\u001b[0m",
      "\u001b[0;31mKeyboardInterrupt\u001b[0m                         Traceback (most recent call last)",
      "Cell \u001b[0;32mIn [76], line 2\u001b[0m\n\u001b[1;32m      1\u001b[0m pg \u001b[38;5;241m=\u001b[39m PathGenerator(vmap)\n\u001b[0;32m----> 2\u001b[0m \u001b[43mpg\u001b[49m\u001b[38;5;241;43m.\u001b[39;49m\u001b[43msearch_ipy\u001b[49m\u001b[43m(\u001b[49m\u001b[43m)\u001b[49m\n",
      "Cell \u001b[0;32mIn [74], line 19\u001b[0m, in \u001b[0;36mPathGenerator.search_ipy\u001b[0;34m(self, limit, update_seconds)\u001b[0m\n\u001b[1;32m     17\u001b[0m new_path \u001b[38;5;241m=\u001b[39m \u001b[38;5;28mself\u001b[39m\u001b[38;5;241m.\u001b[39mgenerate()\n\u001b[1;32m     18\u001b[0m new_path\u001b[38;5;241m.\u001b[39m_log  \u001b[38;5;241m=\u001b[39m \u001b[38;5;28;01mFalse\u001b[39;00m\n\u001b[0;32m---> 19\u001b[0m \u001b[43mnew_path\u001b[49m\u001b[38;5;241;43m.\u001b[39;49m\u001b[43mrun\u001b[49m\u001b[43m(\u001b[49m\u001b[43m)\u001b[49m\n\u001b[1;32m     21\u001b[0m \u001b[38;5;28;01mif\u001b[39;00m \u001b[38;5;28mself\u001b[39m\u001b[38;5;241m.\u001b[39mbest_path \u001b[38;5;241m==\u001b[39m \u001b[38;5;28;01mNone\u001b[39;00m:\n\u001b[1;32m     22\u001b[0m     \u001b[38;5;28mself\u001b[39m\u001b[38;5;241m.\u001b[39mbest_path \u001b[38;5;241m=\u001b[39m new_path\n",
      "Cell \u001b[0;32mIn [40], line 110\u001b[0m, in \u001b[0;36mVolcanoPath.run\u001b[0;34m(self)\u001b[0m\n\u001b[1;32m    108\u001b[0m     act \u001b[38;5;241m=\u001b[39m \u001b[38;5;28mself\u001b[39m\u001b[38;5;241m.\u001b[39mchoose_action()\n\u001b[1;32m    109\u001b[0m     \u001b[38;5;28mself\u001b[39m\u001b[38;5;241m.\u001b[39maction_list\u001b[38;5;241m.\u001b[39mappend(act)\n\u001b[0;32m--> 110\u001b[0m     \u001b[43mact\u001b[49m\u001b[38;5;241;43m.\u001b[39;49m\u001b[43mexecute\u001b[49m\u001b[43m(\u001b[49m\u001b[38;5;28;43mself\u001b[39;49m\u001b[43m)\u001b[49m\n\u001b[1;32m    111\u001b[0m     \u001b[38;5;28mself\u001b[39m\u001b[38;5;241m.\u001b[39mlog_minute_end()\n\u001b[1;32m    112\u001b[0m \u001b[38;5;28mself\u001b[39m\u001b[38;5;241m.\u001b[39mlog_zero_minute()\n",
      "Cell \u001b[0;32mIn [40], line 191\u001b[0m, in \u001b[0;36mAction.execute\u001b[0;34m(self, path)\u001b[0m\n\u001b[1;32m    188\u001b[0m     \u001b[38;5;28mself\u001b[39m\u001b[38;5;241m.\u001b[39mactionstr \u001b[38;5;241m=\u001b[39m actionstr\n\u001b[1;32m    189\u001b[0m     \u001b[38;5;28mself\u001b[39m\u001b[38;5;241m.\u001b[39mtgt \u001b[38;5;241m=\u001b[39m tgt\n\u001b[0;32m--> 191\u001b[0m \u001b[38;5;28;01mdef\u001b[39;00m \u001b[38;5;21mexecute\u001b[39m(\u001b[38;5;28mself\u001b[39m, path):\n\u001b[1;32m    192\u001b[0m     \u001b[38;5;28;01mif\u001b[39;00m \u001b[38;5;28mself\u001b[39m\u001b[38;5;241m.\u001b[39mactionstr \u001b[38;5;241m==\u001b[39m \u001b[38;5;124m'\u001b[39m\u001b[38;5;124mMOVE\u001b[39m\u001b[38;5;124m'\u001b[39m:\n\u001b[1;32m    193\u001b[0m         \u001b[38;5;28mself\u001b[39m\u001b[38;5;241m.\u001b[39m_do_move(path)\n",
      "\u001b[0;31mKeyboardInterrupt\u001b[0m: "
     ]
    }
   ],
   "source": [
    "pg = PathGenerator(vmap)\n",
    "pg.search_ipy()"
   ]
  },
  {
   "cell_type": "code",
   "execution_count": 75,
   "id": "cf023b7a-f6b5-4013-b445-bbff197bf95e",
   "metadata": {
    "collapsed": true,
    "jupyter": {
     "outputs_hidden": true
    },
    "tags": []
   },
   "outputs": [
    {
     "name": "stdout",
     "output_type": "stream",
     "text": [
      "== Minute 1 ==\n",
      "No Valves are open.\n",
      "You move to WG\n",
      "== Minute 2 ==\n",
      "No Valves are open.\n",
      "You move to TA\n",
      "== Minute 3 ==\n",
      "No Valves are open.\n",
      "You move to PP\n",
      "== Minute 4 ==\n",
      "No Valves are open.\n",
      "You move to QK\n",
      "== Minute 5 ==\n",
      "No Valves are open.\n",
      "You open valve QK\n",
      "== Minute 6 ==\n",
      "Valve QK is open, releasing 24 pressure\n",
      "You move to PQ\n",
      "== Minute 7 ==\n",
      "Valve QK is open, releasing 24 pressure\n",
      "You move to JA\n",
      "== Minute 8 ==\n",
      "Valve QK is open, releasing 24 pressure\n",
      "You move to VE\n",
      "== Minute 9 ==\n",
      "Valve QK is open, releasing 24 pressure\n",
      "You move to KW\n",
      "== Minute 10 ==\n",
      "Valve QK is open, releasing 24 pressure\n",
      "You move to VK\n",
      "== Minute 11 ==\n",
      "Valve QK is open, releasing 24 pressure\n",
      "You open valve VK\n",
      "== Minute 12 ==\n",
      "Values QK and VK are open, releasing 46 pressure\n",
      "You move to KW\n",
      "== Minute 13 ==\n",
      "Values QK and VK are open, releasing 46 pressure\n",
      "You move to VE\n",
      "== Minute 14 ==\n",
      "Values QK and VK are open, releasing 46 pressure\n",
      "You move to JA\n",
      "== Minute 15 ==\n",
      "Values QK and VK are open, releasing 46 pressure\n",
      "You move to PQ\n",
      "== Minute 16 ==\n",
      "Values QK and VK are open, releasing 46 pressure\n",
      "You move to QK\n",
      "== Minute 17 ==\n",
      "Values QK and VK are open, releasing 46 pressure\n",
      "You move to PP\n",
      "== Minute 18 ==\n",
      "Values QK and VK are open, releasing 46 pressure\n",
      "You move to TA\n",
      "== Minute 19 ==\n",
      "Values QK and VK are open, releasing 46 pressure\n",
      "You move to CR\n",
      "== Minute 20 ==\n",
      "Values QK and VK are open, releasing 46 pressure\n",
      "You move to ST\n",
      "== Minute 21 ==\n",
      "Values QK and VK are open, releasing 46 pressure\n",
      "You move to DC\n",
      "== Minute 22 ==\n",
      "Values QK and VK are open, releasing 46 pressure\n",
      "You open valve DC\n",
      "== Minute 23 ==\n",
      "Valves DC, QK and VK are open, releasing 71 pressure\n",
      "You move to ST\n",
      "== Minute 24 ==\n",
      "Valves DC, QK and VK are open, releasing 71 pressure\n",
      "You move to CR\n",
      "== Minute 25 ==\n",
      "Valves DC, QK and VK are open, releasing 71 pressure\n",
      "You move to TA\n",
      "== Minute 26 ==\n",
      "Valves DC, QK and VK are open, releasing 71 pressure\n",
      "You open valve TA\n",
      "== Minute 27 ==\n",
      "Valves DC, QK, TA and VK are open, releasing 92 pressure\n",
      "You move to RF\n",
      "== Minute 28 ==\n",
      "Valves DC, QK, TA and VK are open, releasing 92 pressure\n",
      "You move to JT\n",
      "== Minute 29 ==\n",
      "Valves DC, QK, TA and VK are open, releasing 92 pressure\n",
      "You move to MZ\n",
      "== Minute 30 ==\n",
      "Valves DC, QK, TA and VK are open, releasing 92 pressure\n",
      "You move to PF\n",
      "You released a total of 1302 pressure.\n"
     ]
    }
   ],
   "source": [
    "ep = ExplicitPath(vmap, PathChooser())\n",
    "ep.run()"
   ]
  },
  {
   "cell_type": "markdown",
   "id": "25164015-0392-4e52-b9e9-8b445028e8f7",
   "metadata": {
    "tags": []
   },
   "source": [
    "## Part 2"
   ]
  },
  {
   "cell_type": "code",
   "execution_count": null,
   "id": "bd9e53fb-5f93-4333-af67-aefa31066c47",
   "metadata": {},
   "outputs": [],
   "source": [
    "class DualPath(object):\n",
    "    def __init__(self, p1, p2):\n",
    "        self.p1 = p1\n",
    "        self.p2 = p2\n",
    "        self.total_release = 0\n",
    "        \n",
    "    def run(self):\n",
    "        pass\n",
    "        \n",
    "    "
   ]
  },
  {
   "cell_type": "code",
   "execution_count": 66,
   "id": "ee16a7ed-34cd-474e-ae37-ce12803a43b7",
   "metadata": {},
   "outputs": [
    {
     "name": "stdout",
     "output_type": "stream",
     "text": [
      "1:49:25.384020\n"
     ]
    }
   ],
   "source": [
    "endtime = datetime.datetime.now()\n",
    "\n",
    "print(endtime - starttime)"
   ]
  },
  {
   "cell_type": "markdown",
   "id": "09144659-a465-42a3-925f-cb54912b4e50",
   "metadata": {},
   "source": [
    "## Notes\n"
   ]
  },
  {
   "cell_type": "markdown",
   "id": "caeda8f8-d6bb-4411-8034-476a930c8ed1",
   "metadata": {},
   "source": [
    "Naive solution takes about 6 minutes (`check_range`), revision that actually calculates ranges, ~20 seconds (`check_range2`)."
   ]
  },
  {
   "cell_type": "markdown",
   "id": "d8947d1f-d571-44f9-90e6-8932ded29937",
   "metadata": {
    "tags": []
   },
   "source": [
    "## Bugs\n",
    "\n"
   ]
  },
  {
   "cell_type": "markdown",
   "id": "a1b77bd3-836a-4e80-83fb-f13929b6e528",
   "metadata": {},
   "source": [
    "1. Did not exclude beacons that existed in the count\n",
    "2. was not returning the right set when calculating exclusion"
   ]
  },
  {
   "cell_type": "markdown",
   "id": "dfd0990d-f0e4-4ad3-bc49-505e905856e4",
   "metadata": {},
   "source": [
    "## Test\n",
    "\n"
   ]
  },
  {
   "cell_type": "code",
   "execution_count": null,
   "id": "b4013a90-2873-4776-917e-461b79e684f5",
   "metadata": {},
   "outputs": [],
   "source": [
    "testdata = \"\"\"Valve AA has flow rate=0; tunnels lead to valves DD, II, BB\n",
    "Valve BB has flow rate=13; tunnels lead to valves CC, AA\n",
    "Valve CC has flow rate=2; tunnels lead to valves DD, BB\n",
    "Valve DD has flow rate=20; tunnels lead to valves CC, AA, EE\n",
    "Valve EE has flow rate=3; tunnels lead to valves FF, DD\n",
    "Valve FF has flow rate=0; tunnels lead to valves EE, GG\n",
    "Valve GG has flow rate=0; tunnels lead to valves FF, HH\n",
    "Valve HH has flow rate=22; tunnel leads to valve GG\n",
    "Valve II has flow rate=0; tunnels lead to valves AA, JJ\n",
    "Valve JJ has flow rate=21; tunnel leads to valve II\"\"\".split('\\n')"
   ]
  },
  {
   "cell_type": "code",
   "execution_count": null,
   "id": "d049ab26-3594-4b7f-abc1-4f035b67b919",
   "metadata": {},
   "outputs": [],
   "source": [
    "tmap = AOCVMap(testdata)"
   ]
  },
  {
   "cell_type": "code",
   "execution_count": null,
   "id": "bb624a34-9b63-4cb6-948c-075e8a8a9d7f",
   "metadata": {},
   "outputs": [],
   "source": [
    "xcache = {}\n",
    "xcache[tmap.find_node('AA'),tmap.find_node('GG')] = \"Hithere\"\n",
    "xcache[(tmap.find_node('AA'),tmap.find_node('GG'))]"
   ]
  },
  {
   "cell_type": "code",
   "execution_count": null,
   "id": "e5e82030-f8ff-43b5-a01b-2a4a2941784c",
   "metadata": {},
   "outputs": [],
   "source": [
    "actions = [\n",
    "    Action('MOVE', tmap.find_node('DD')),\n",
    "    Action('RELEASE', tmap.find_node('DD')),\n",
    "    Action('MOVE', tmap.find_node('CC')),\n",
    "    Action('MOVE', tmap.find_node('BB')),\n",
    "    Action('RELEASE', tmap.find_node('BB')),\n",
    "    Action('MOVE', tmap.find_node('AA')),\n",
    "    Action('MOVE', tmap.find_node('II')),\n",
    "    Action('MOVE', tmap.find_node('JJ')),\n",
    "    Action('RELEASE', tmap.find_node('JJ')),\n",
    "    Action('MOVE', tmap.find_node('II')),\n",
    "    Action('MOVE', tmap.find_node('AA')),\n",
    "    Action('MOVE', tmap.find_node('DD')),\n",
    "    Action('MOVE', tmap.find_node('EE')),\n",
    "    Action('MOVE', tmap.find_node('FF')),\n",
    "    Action('MOVE', tmap.find_node('GG')),\n",
    "    Action('MOVE', tmap.find_node('HH')),\n",
    "    Action('RELEASE', tmap.find_node('HH')),\n",
    "    Action('MOVE', tmap.find_node('GG')),\n",
    "    Action('MOVE', tmap.find_node('FF')),\n",
    "    Action('MOVE', tmap.find_node('EE')),\n",
    "    Action('RELEASE', tmap.find_node('EE')),\n",
    "    Action('MOVE', tmap.find_node('DD')),\n",
    "    Action('MOVE', tmap.find_node('CC')),\n",
    "    Action('RELEASE', tmap.find_node('CC')),\n",
    "]\n",
    "\n"
   ]
  },
  {
   "cell_type": "code",
   "execution_count": null,
   "id": "8eee8b4d-05f8-488c-82a5-c0a3a24519f6",
   "metadata": {},
   "outputs": [],
   "source": [
    "tpath = ReplayPath(tmap, actions)\n",
    "\n",
    "tpath.run()"
   ]
  },
  {
   "cell_type": "code",
   "execution_count": null,
   "id": "a64d677d-c594-4910-9e74-e941bcdf08e1",
   "metadata": {},
   "outputs": [],
   "source": [
    "tgpath = GreedyPath(tmap)\n",
    "tgpath.run()"
   ]
  },
  {
   "cell_type": "code",
   "execution_count": null,
   "id": "6e0f362e-0bda-40b6-80e8-4007fac5afdd",
   "metadata": {},
   "outputs": [],
   "source": []
  }
 ],
 "metadata": {
  "kernelspec": {
   "display_name": "Python 3 (ipykernel)",
   "language": "python",
   "name": "python3"
  },
  "language_info": {
   "codemirror_mode": {
    "name": "ipython",
    "version": 3
   },
   "file_extension": ".py",
   "mimetype": "text/x-python",
   "name": "python",
   "nbconvert_exporter": "python",
   "pygments_lexer": "ipython3",
   "version": "3.10.8"
  }
 },
 "nbformat": 4,
 "nbformat_minor": 5
}
